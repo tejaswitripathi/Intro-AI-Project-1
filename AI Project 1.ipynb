{
 "cells": [
  {
   "cell_type": "markdown",
   "id": "eec7c5c3",
   "metadata": {},
   "source": [
    "## Building the Ship"
   ]
  },
  {
   "cell_type": "code",
   "execution_count": 15,
   "id": "378f7571",
   "metadata": {},
   "outputs": [
    {
     "name": "stdout",
     "output_type": "stream",
     "text": [
      "Grid size: 40\n",
      "2 2 2 2 2 2 2 2 2 2 2 2 2 2 2 2 2 2 2 2 2 2 2 2 2 2 2 2 2 2 2 2 2 2 2 2 2 2 2 2 2 2 \n",
      "2 0 0 0 0 0 0 0 0 0 0 0 0 0 0 0 0 0 0 0 0 0 0 0 0 0 0 0 0 0 0 0 0 0 0 0 0 0 0 0 0 2 \n",
      "2 0 0 0 0 0 0 0 0 0 0 0 0 0 0 0 0 0 0 0 0 0 0 0 0 0 0 0 0 0 0 0 0 0 0 0 0 0 0 0 0 2 \n",
      "2 0 0 0 0 0 0 0 0 0 0 0 0 0 0 0 0 0 0 0 0 0 0 0 0 0 0 0 0 0 0 0 0 0 0 0 0 0 0 0 0 2 \n",
      "2 0 0 0 0 0 0 0 0 0 0 0 0 0 0 0 0 0 0 0 0 0 0 0 0 0 0 0 0 0 0 0 0 0 0 0 0 0 0 0 0 2 \n",
      "2 0 0 0 0 0 0 0 0 0 0 0 0 0 0 0 0 0 0 0 0 0 0 0 0 0 0 0 0 0 0 0 0 0 0 0 0 0 0 0 0 2 \n",
      "2 0 0 0 0 0 0 0 0 0 0 0 0 0 0 0 0 0 0 0 0 0 0 0 0 0 0 0 0 0 0 0 0 0 0 0 0 0 0 0 0 2 \n",
      "2 0 0 0 0 0 0 0 0 0 0 0 0 0 0 0 0 0 0 0 0 0 0 0 0 0 0 0 0 0 0 0 0 0 0 0 0 0 0 0 0 2 \n",
      "2 0 0 0 0 0 0 0 0 0 0 0 0 0 0 0 0 0 0 0 0 0 0 0 0 0 0 0 0 0 0 0 0 0 0 0 0 0 0 0 0 2 \n",
      "2 0 0 0 0 0 0 0 0 0 0 0 0 0 0 0 0 0 0 0 0 0 0 0 0 0 0 0 0 0 0 0 0 0 0 0 0 0 0 0 0 2 \n",
      "2 0 0 0 0 0 0 0 0 0 0 0 0 0 0 0 0 0 0 0 0 0 0 0 0 0 0 0 0 0 0 0 0 0 0 0 0 0 0 0 0 2 \n",
      "2 0 0 0 0 0 0 0 0 0 0 0 0 0 0 0 0 0 0 0 0 0 0 0 0 0 0 0 0 0 0 0 0 0 0 0 0 0 0 0 0 2 \n",
      "2 0 0 0 0 0 0 0 0 0 0 0 0 0 0 0 0 0 0 0 0 0 0 0 0 0 0 0 0 0 0 0 0 0 0 0 0 0 0 0 0 2 \n",
      "2 0 0 0 0 0 0 0 0 0 0 0 0 0 0 0 0 0 0 0 0 0 0 0 0 0 0 0 0 0 0 0 0 0 0 0 0 0 0 0 0 2 \n",
      "2 0 0 0 0 0 0 0 0 0 0 0 0 0 0 0 0 0 0 0 0 0 0 0 0 0 0 0 0 0 0 0 0 0 0 0 0 0 0 0 0 2 \n",
      "2 0 0 0 0 0 0 0 0 0 0 0 0 0 0 0 0 0 0 0 0 0 0 0 0 0 0 0 0 0 0 0 0 0 0 0 0 0 0 0 0 2 \n",
      "2 0 0 0 0 0 0 0 0 0 0 0 0 0 0 0 0 0 0 0 0 0 0 0 0 0 0 0 0 0 0 0 0 0 0 0 0 0 0 0 0 2 \n",
      "2 0 0 0 0 0 0 0 0 0 0 0 0 0 0 0 0 0 0 0 0 0 0 0 0 0 0 0 0 0 0 0 0 0 0 0 0 0 0 0 0 2 \n",
      "2 0 0 0 0 0 0 0 0 0 0 0 0 0 0 0 0 0 0 0 0 0 0 0 0 0 0 0 0 0 0 0 0 0 0 0 0 0 0 0 0 2 \n",
      "2 0 0 0 0 0 0 0 0 0 0 0 0 0 0 0 0 0 0 0 0 0 0 0 0 0 0 0 0 0 0 0 0 0 0 0 0 0 0 0 0 2 \n",
      "2 0 0 0 0 0 0 0 0 0 0 0 0 0 0 0 0 0 0 0 0 0 0 0 0 0 0 0 0 0 0 0 0 0 0 0 0 0 0 0 0 2 \n",
      "2 0 0 0 0 0 0 0 0 0 0 0 0 0 0 0 0 0 0 0 0 0 0 0 0 0 0 0 0 0 0 0 0 0 0 0 0 0 0 0 0 2 \n",
      "2 0 0 0 0 0 0 0 0 0 0 0 0 0 0 0 0 0 0 0 0 0 0 0 0 0 0 0 0 0 0 0 0 0 0 0 0 0 0 0 0 2 \n",
      "2 0 0 0 0 0 0 0 0 0 0 0 0 0 0 0 0 0 0 0 0 0 0 0 0 0 0 0 0 0 0 0 0 0 0 0 0 0 0 0 0 2 \n",
      "2 0 0 0 0 0 0 0 0 0 0 0 0 0 0 0 0 0 0 0 0 0 0 0 0 0 0 0 0 0 0 0 0 0 0 0 0 0 0 0 0 2 \n",
      "2 0 0 0 0 0 0 0 0 0 0 0 0 0 0 0 0 0 0 0 0 0 0 0 0 0 0 0 0 0 0 0 0 0 0 0 0 0 0 0 0 2 \n",
      "2 0 0 0 0 0 0 0 0 0 0 0 0 0 0 0 0 0 0 0 0 0 0 0 0 0 0 0 0 0 0 0 0 0 0 0 0 0 0 0 0 2 \n",
      "2 0 0 0 0 0 0 0 0 0 0 0 0 0 0 0 0 0 0 0 0 0 0 0 0 0 0 0 0 0 0 0 0 0 0 0 0 0 0 0 0 2 \n",
      "2 0 0 0 0 0 0 0 0 0 0 0 0 0 0 0 0 0 0 0 0 0 0 0 0 0 0 0 0 0 0 0 0 0 0 0 0 0 0 0 0 2 \n",
      "2 0 0 0 0 0 0 0 0 0 0 0 0 0 0 0 0 0 0 0 0 0 0 0 0 0 0 0 0 0 0 0 0 0 0 0 0 0 0 0 0 2 \n",
      "2 0 0 0 0 0 0 0 0 0 0 0 0 0 0 0 0 0 0 0 0 0 0 0 0 0 0 0 0 0 0 0 0 0 0 0 0 0 0 0 0 2 \n",
      "2 0 0 0 0 0 0 0 0 0 0 0 0 0 0 0 0 0 0 0 0 0 0 0 0 0 0 0 0 0 0 0 0 0 0 0 0 0 0 0 0 2 \n",
      "2 0 0 0 0 0 0 0 0 0 0 0 0 0 0 0 0 0 0 0 0 0 0 0 0 0 0 0 0 0 0 0 0 0 0 0 0 0 0 0 0 2 \n",
      "2 0 0 0 0 0 0 0 0 0 0 0 0 0 0 0 0 0 0 0 0 0 0 0 0 0 0 0 0 0 0 0 0 0 0 0 0 0 0 0 0 2 \n",
      "2 0 0 0 0 0 0 0 0 0 0 0 0 0 0 0 0 0 0 0 0 0 0 0 0 0 0 0 0 0 0 0 0 0 0 0 0 0 0 0 0 2 \n",
      "2 0 0 0 0 0 0 0 0 0 0 0 0 0 0 0 0 0 0 0 0 0 0 0 0 0 0 0 0 0 0 0 0 0 0 0 0 0 0 0 0 2 \n",
      "2 0 0 0 0 0 0 0 0 0 0 0 0 0 0 0 0 0 0 0 0 0 0 0 0 0 0 0 0 0 0 0 0 0 0 0 0 0 0 0 0 2 \n",
      "2 0 0 0 0 0 0 0 0 0 0 0 0 0 0 0 0 0 0 0 0 0 0 0 0 0 0 0 0 0 0 0 0 0 0 0 0 0 0 0 0 2 \n",
      "2 0 0 0 0 0 0 0 0 0 0 0 0 0 0 0 0 0 0 0 0 0 0 0 0 0 0 0 0 0 0 0 0 0 0 0 0 0 0 0 0 2 \n",
      "2 0 0 0 0 0 0 0 0 0 0 0 0 0 0 0 0 0 0 0 0 0 0 0 0 0 0 0 0 0 0 0 0 0 0 0 0 0 0 0 0 2 \n",
      "2 0 0 0 0 0 0 0 0 0 0 0 0 0 0 0 0 0 0 0 0 0 0 0 0 0 0 0 0 0 0 0 0 0 0 0 0 0 0 0 0 2 \n",
      "2 2 2 2 2 2 2 2 2 2 2 2 2 2 2 2 2 2 2 2 2 2 2 2 2 2 2 2 2 2 2 2 2 2 2 2 2 2 2 2 2 2 \n"
     ]
    }
   ],
   "source": [
    "import random\n",
    "\n",
    "d = int(input(\"Grid size: \"))\n",
    "\n",
    "grid = [[0 for _ in range(d+2)] for _ in range(d+2)]\n",
    "    \n",
    "# Set the first and last rows to 1s\n",
    "for j in range(d+2):\n",
    "    grid[0][j] = 2  # First row\n",
    "    grid[d+1][j] = 2  # Last row\n",
    "\n",
    "# Set the first and last columns to 1s\n",
    "for i in range(d+2):\n",
    "    grid[i][0] = 2 # First column\n",
    "    grid[i][d+1] = 2 # Last column\n",
    "    \n",
    "for r in grid:\n",
    "    for c in r:\n",
    "        print(c, end=\" \")\n",
    "    print()"
   ]
  },
  {
   "cell_type": "code",
   "execution_count": 16,
   "id": "141c5181",
   "metadata": {},
   "outputs": [],
   "source": [
    "def checkNeighbors(grid, r, c, a):\n",
    "    return [grid[r-1][c],grid[r+1][c],grid[r][c-1],grid[r][c+1]].count(a)"
   ]
  },
  {
   "cell_type": "code",
   "execution_count": 17,
   "id": "9e817508",
   "metadata": {
    "scrolled": true
   },
   "outputs": [
    {
     "name": "stdout",
     "output_type": "stream",
     "text": [
      "Percent of cells opened: 60.75\n"
     ]
    }
   ],
   "source": [
    "\n",
    "x = random.randint(1, d)\n",
    "y = random.randint(1, d)\n",
    "\n",
    "\n",
    "fringe = []\n",
    "fringe.append((x,y))\n",
    "\n",
    "deadEnds = []\n",
    "\n",
    "while len(fringe) > 0:\n",
    "    curr = random.choice(fringe)\n",
    "    fringe.remove(curr)\n",
    "    r, c = curr[0], curr[1]\n",
    "    if checkNeighbors(grid, r, c, 1) > 1:\n",
    "        continue\n",
    "    grid[r][c] = 1\n",
    "    up = (r-1, c) \n",
    "    down = (r+1, c) \n",
    "    left = (r, c-1) \n",
    "    right = (r, c+1)\n",
    "    deadEnd = True\n",
    "    for elt in [up, down, left, right]:\n",
    "        if grid[elt[0]][elt[1]] == 0:\n",
    "            numOpenNeighbors = checkNeighbors(grid, elt[0], elt[1], 1)\n",
    "            if numOpenNeighbors == 1:\n",
    "                deadEnd = False\n",
    "                fringe.append(elt)\n",
    "    if deadEnd:\n",
    "        deadEnds.append(curr)\n",
    "        \n",
    "\n",
    "count = 0   \n",
    "for row in grid:\n",
    "    count += row.count(1)\n",
    "\n",
    "print(f\"Percent of cells opened: {100*count/(d*d)}\")"
   ]
  },
  {
   "cell_type": "code",
   "execution_count": 18,
   "id": "e0a4f116",
   "metadata": {},
   "outputs": [
    {
     "data": {
      "image/png": "[encoded data removed]",
      "text/plain": [
       "<Figure size 640x480 with 1 Axes>"
      ]
     },
     "metadata": {},
     "output_type": "display_data"
    }
   ],
   "source": [
    "import matplotlib.pyplot as plt\n",
    "import numpy as np\n",
    "\n",
    "color_map = {\n",
    "    0: 'white',\n",
    "    1: 'black',\n",
    "    2: 'red'\n",
    "}\n",
    "\n",
    "# Create a figure and axis\n",
    "fig, ax = plt.subplots()\n",
    "\n",
    "# Create a grid where each cell is colored according to the value in the array\n",
    "for i in range(len(grid)):\n",
    "    for j in range(len(grid[i])):\n",
    "        ax.add_patch(plt.Rectangle((j, i), 1, 1, facecolor=color_map[grid[i][j]]))\n",
    "\n",
    "# Set grid limits and turn off axis\n",
    "ax.set_xlim(0, len(grid[0]))\n",
    "ax.set_ylim(0, len(grid))\n",
    "ax.set_xticks([])\n",
    "ax.set_yticks([])\n",
    "ax.set_aspect('equal')\n",
    "\n",
    "plt.gca().invert_yaxis()  # Invert y-axis to make the grid origin (0,0) at the top-left corner\n",
    "plt.show()"
   ]
  },
  {
   "cell_type": "markdown",
   "id": "7ed6fdb8",
   "metadata": {},
   "source": [
    "black = open cells, red = wall"
   ]
  },
  {
   "cell_type": "code",
   "execution_count": 19,
   "id": "cea4c227",
   "metadata": {},
   "outputs": [
    {
     "name": "stdout",
     "output_type": "stream",
     "text": [
      "Percent of cells opened: 65.125\n"
     ]
    }
   ],
   "source": [
    "for elt in deadEnds:\n",
    "    if grid[elt[0]][elt[1]] == 2:\n",
    "        deadEnds.remove(elt)\n",
    "    numOpenNeighbors = checkNeighbors(grid, elt[0], elt[1], 1)\n",
    "    if numOpenNeighbors > 1:\n",
    "        deadEnds.remove(elt)\n",
    "\n",
    "newList = random.sample(deadEnds, len(deadEnds) // 2)\n",
    "for elt in newList:\n",
    "    r = elt[0]\n",
    "    c = elt[1]\n",
    "    up = (r-1, c) \n",
    "    down = (r+1, c) \n",
    "    left = (r, c-1) \n",
    "    right = (r, c+1)\n",
    "    neighbors = [up,down,left,right]\n",
    "    for pt in neighbors:\n",
    "        if grid[pt[0]][pt[1]] == 1 or grid[pt[0]][pt[1]] == 2:\n",
    "            neighbors.remove(pt)\n",
    "    curr = random.choice(neighbors)\n",
    "    grid[curr[0]][curr[1]] = 1\n",
    "\n",
    "count = 0   \n",
    "for row in grid:\n",
    "    count += row.count(1)\n",
    "\n",
    "print(f\"Percent of cells opened: {100*count/(d*d)}\")"
   ]
  },
  {
   "cell_type": "code",
   "execution_count": 20,
   "id": "2a865ee3",
   "metadata": {},
   "outputs": [
    {
     "data": {
      "image/png": "[encoded data removed]",
      "text/plain": [
       "<Figure size 640x480 with 1 Axes>"
      ]
     },
     "metadata": {},
     "output_type": "display_data"
    }
   ],
   "source": [
    "color_map = {\n",
    "    0: 'white',\n",
    "    1: 'black',\n",
    "    2: 'red'\n",
    "}\n",
    "\n",
    "# Create a figure and axis\n",
    "fig, ax = plt.subplots()\n",
    "\n",
    "# Create a grid where each cell is colored according to the value in the array\n",
    "for i in range(len(grid)):\n",
    "    for j in range(len(grid[i])):\n",
    "        ax.add_patch(plt.Rectangle((j, i), 1, 1, facecolor=color_map[grid[i][j]]))\n",
    "\n",
    "# Set grid limits and turn off axis\n",
    "ax.set_xlim(0, len(grid[0]))\n",
    "ax.set_ylim(0, len(grid))\n",
    "ax.set_xticks([])\n",
    "ax.set_yticks([])\n",
    "ax.set_aspect('equal')\n",
    "\n",
    "plt.gca().invert_yaxis()  # Invert y-axis to make the grid origin (0,0) at the top-left corner\n",
    "plt.show()"
   ]
  },
  {
   "cell_type": "markdown",
   "id": "67016aef",
   "metadata": {},
   "source": [
    "## Coding the Fire\n"
   ]
  },
  {
   "cell_type": "code",
   "execution_count": 7,
   "id": "c0245dd3",
   "metadata": {},
   "outputs": [],
   "source": [
    "def setFire(grid, pt, q):\n",
    "    if grid[pt[0]][pt[1]] == 3:\n",
    "        return\n",
    "    r = pt[0]\n",
    "    c = pt[1]\n",
    "    up = (r-1, c) \n",
    "    down = (r+1, c) \n",
    "    left = (r, c-1) \n",
    "    right = (r, c+1)\n",
    "    neighbors = [up,down,left,right]\n",
    "    for elt in neighbors:\n",
    "        k = checkNeighbors(grid, elt[0], elt[1], 3)\n",
    "        prob = 1 - (1-q)**k\n",
    "        x = random.random()\n",
    "        if x <= prob:\n",
    "            grid[elt[0]][elt[1]] = 3"
   ]
  },
  {
   "cell_type": "markdown",
   "id": "33ad0482",
   "metadata": {},
   "source": [
    "## Location Initializations"
   ]
  },
  {
   "cell_type": "code",
   "execution_count": 13,
   "id": "696d2684",
   "metadata": {},
   "outputs": [
    {
     "name": "stdout",
     "output_type": "stream",
     "text": [
      "False\n"
     ]
    }
   ],
   "source": [
    "botLoc = (random.randint(1, d), random.randint(1, d))\n",
    "while grid[botLoc[0]][botLoc[1]] == 0:\n",
    "    botLoc = (random.randint(1, d), random.randint(1, d))\n",
    "\n",
    "butLoc = (random.randint(1, d), random.randint(1, d))\n",
    "while grid[butLoc[0]][butLoc[1]] == 0:\n",
    "    butLoc = (random.randint(1, d), random.randint(1, d))\n",
    "\n",
    "fireLoc = (random.randint(1, d), random.randint(1, d))\n",
    "while grid[fireLoc[0]][fireLoc[1]] == 0:\n",
    "    fireLoc = (random.randint(1, d), random.randint(1, d))\n",
    "\n",
    "notDistinct = (botLoc == butLoc) or (botLoc == fireLoc) or (butLoc == fireLoc)\n",
    "print(distinct)\n",
    "\n",
    "while notDistinct:\n",
    "    while grid[botLoc[0]][botLoc[1]] == 0:\n",
    "        botLoc = (random.randint(1, d), random.randint(1, d))\n",
    "    while grid[butLoc[0]][butLoc[1]] == 0:\n",
    "        butLoc = (random.randint(1, d), random.randint(1, d))\n",
    "    while grid[fireLoc[0]][fireLoc[1]] == 0:\n",
    "        fireLoc = (random.randint(1, d), random.randint(1, d))\n",
    "\n",
    "bot1Grid = grid.copy()\n",
    "bot1Grid[fireLoc[0]][fireLoc[1]] = 3\n",
    "bot1Grid[botLoc[0]][botLoc[1]] = 4\n",
    "bot1Grid[butLoc[0]][butLoc[1]] = 4"
   ]
  },
  {
   "cell_type": "markdown",
   "id": "bb38f30e",
   "metadata": {},
   "source": [
    "## Shortest Path (Bot 1)"
   ]
  },
  {
   "cell_type": "code",
   "execution_count": 14,
   "id": "802b4ead",
   "metadata": {},
   "outputs": [
    {
     "name": "stdout",
     "output_type": "stream",
     "text": [
      "None\n"
     ]
    }
   ],
   "source": [
    "fringe1 = []\n",
    "fringe1.append(botLoc)\n",
    "fringe2 = []\n",
    "fringe2.append(butLoc)\n",
    "\n",
    "closed_set = {}\n",
    "prev1 = {}\n",
    "prev1[botLoc] = None\n",
    "prev2 = {}\n",
    "prev2[butLoc] = None\n",
    "\n",
    "while len(fringe1) > 0:\n",
    "    curr1 = fringe1.pop(0)\n",
    "    curr2 = fringe2.pop(0)\n",
    "    if curr1 == curr2:\n",
    "        prev = prev2.update(prev1)\n",
    "        break\n",
    "    \n",
    "    if curr1 not in closed_set:\n",
    "        closed_set.update({curr1: 1})\n",
    "        r1, c1 = curr1[0], curr1[1]\n",
    "        neighbors1 = [(r1-1, c1),(r1+1, c1),(r1, c1-1),(r1, c1+1)]\n",
    "        for elt in neighbors1:\n",
    "            if bot1Grid[elt[0]][elt[1]] == 1:\n",
    "                fringe1.append(elt)\n",
    "                prev1[elt] = curr1\n",
    "    \n",
    "    if curr2 not in closed_set:\n",
    "        closed_set.update({curr2: 1})\n",
    "        r2, c2 = curr2[0], curr2[1]\n",
    "        neighbors2 = [(r2-1, c2),(r2+1, c2),(r2, c2-1),(r2, c2+1)]\n",
    "        for elt in neighbors2:\n",
    "            if bot1Grid[elt[0]][elt[1]] == 1:\n",
    "                fringe2.append(elt)\n",
    "                prev2[elt] = curr2\n",
    "print(prev)"
   ]
  },
  {
   "cell_type": "markdown",
   "id": "8a41138f",
   "metadata": {},
   "source": [
    "## Game Loop (Bot 1)"
   ]
  },
  {
   "cell_type": "code",
   "execution_count": null,
   "id": "a8565f92",
   "metadata": {},
   "outputs": [],
   "source": [
    "t = 1\n",
    "fireLocs = []\n",
    "fireLocs.append(fireLoc)\n",
    "for i in prev:\n",
    "    for curr in fireLocs:\n",
    "        setFire(bot1Grid, curr, 0.5)\n",
    "        if bot1Grid[curr[0]][curr[1]] == 3:\n",
    "            fireLocs.pop(fireLocs.index(curr))\n",
    "            neighbors = [(curr[0]-1,curr[1]), (curr[0]+1,curr[1]), (curr[0], curr[1]-1), (curr[0], curr[1]+1)]\n",
    "            for elt in neighbors:\n",
    "                if bot1Grid[elt[0]][elt[1]] == 1:\n",
    "                    fireLocs.append(elt)\n",
    "    if bot1Grid[i[0]][i[1]] == 3:\n",
    "        print(f\"Bot1 failed in {t} timesteps.\")\n",
    "        break\n",
    "    t = t + 1\n",
    "    bot1Grid[i[0]][i[1]] = 4\n",
    "print(\"Success!\")"
   ]
  },
  {
   "cell_type": "code",
   "execution_count": null,
   "id": "2250cfa7",
   "metadata": {},
   "outputs": [],
   "source": [
    "color_map = {\n",
    "    0: 'white',\n",
    "    1: 'black',\n",
    "    2: 'red',\n",
    "    3: 'orange',\n",
    "    4: 'blue'\n",
    "}\n",
    "\n",
    "# Create a figure and axis\n",
    "fig, ax = plt.subplots()\n",
    "\n",
    "# Create a grid where each cell is colored according to the value in the array\n",
    "for i in range(len(grid)):\n",
    "    for j in range(len(grid[i])):\n",
    "        ax.add_patch(plt.Rectangle((j, i), 1, 1, facecolor=color_map[grid[i][j]]))\n",
    "\n",
    "# Set grid limits and turn off axis\n",
    "ax.set_xlim(0, len(grid[0]))\n",
    "ax.set_ylim(0, len(grid))\n",
    "ax.set_xticks([])\n",
    "ax.set_yticks([])\n",
    "ax.set_aspect('equal')\n",
    "\n",
    "plt.gca().invert_yaxis()  # Invert y-axis to make the grid origin (0,0) at the top-left corner\n",
    "plt.show()"
   ]
  }
 ],
 "metadata": {
  "kernelspec": {
   "display_name": "Python 3 (ipykernel)",
   "language": "python",
   "name": "python3"
  },
  "language_info": {
   "codemirror_mode": {
    "name": "ipython",
    "version": 3
   },
   "file_extension": ".py",
   "mimetype": "text/x-python",
   "name": "python",
   "nbconvert_exporter": "python",
   "pygments_lexer": "ipython3",
   "version": "3.11.5"
  }
 },
 "nbformat": 4,
 "nbformat_minor": 5
}
