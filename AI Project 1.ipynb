{
 "cells": [
  {
   "cell_type": "markdown",
   "id": "eec7c5c3",
   "metadata": {},
   "source": [
    "## Building the Ship"
   ]
  },
  {
   "cell_type": "code",
   "execution_count": 97,
   "id": "b85afeba",
   "metadata": {},
   "outputs": [],
   "source": [
    "import random\n",
    "\n",
    "d = 40\n",
    "\n",
    "#Helper method to check neighbors in board initialization\n",
    "def checkNeighbors(grid, r, c, a):\n",
    "    return [grid[r-1][c],grid[r+1][c],grid[r][c-1],grid[r][c+1]].count(a)\n",
    "\n",
    "#Create new board with given edge length\n",
    "def createBoard(d):\n",
    "    grid = [[0 for _ in range(d+2)] for _ in range(d+2)]\n",
    "\n",
    "    for j in range(d+2):\n",
    "        grid[0][j] = 2 \n",
    "        grid[d+1][j] = 2 \n",
    "    for i in range(d+2):\n",
    "        grid[i][0] = 2 \n",
    "        grid[i][d+1] = 2\n",
    "    x = random.randint(1, d)\n",
    "    y = random.randint(1, d)\n",
    "\n",
    "    fringe = []\n",
    "    fringe.append((x,y))\n",
    "\n",
    "    deadEnds = []\n",
    "\n",
    "    while len(fringe) > 0:\n",
    "        curr = random.choice(fringe)\n",
    "        fringe.remove(curr)\n",
    "        r, c = curr[0], curr[1]\n",
    "        if checkNeighbors(grid, r, c, 1) > 1:\n",
    "            continue\n",
    "        grid[r][c] = 1\n",
    "        up = (r-1, c) \n",
    "        down = (r+1, c) \n",
    "        left = (r, c-1) \n",
    "        right = (r, c+1)\n",
    "        deadEnd = True\n",
    "        for elt in [up, down, left, right]:\n",
    "            if grid[elt[0]][elt[1]] == 0:\n",
    "                numOpenNeighbors = checkNeighbors(grid, elt[0], elt[1], 1)\n",
    "                if numOpenNeighbors == 1:\n",
    "                    deadEnd = False\n",
    "                    fringe.append(elt)\n",
    "        if deadEnd:\n",
    "            deadEnds.append(curr)\n",
    "    \n",
    "    for elt in deadEnds:\n",
    "        if grid[elt[0]][elt[1]] == 2:\n",
    "            deadEnds.remove(elt)\n",
    "            continue\n",
    "        numOpenNeighbors = checkNeighbors(grid, elt[0], elt[1], 1)\n",
    "        if numOpenNeighbors > 1:\n",
    "            deadEnds.remove(elt)\n",
    "\n",
    "    newList = random.sample(deadEnds, len(deadEnds) // 2)\n",
    "    for elt in newList:\n",
    "        r = elt[0]\n",
    "        c = elt[1]\n",
    "        up = (r-1, c) \n",
    "        down = (r+1, c) \n",
    "        left = (r, c-1) \n",
    "        right = (r, c+1)\n",
    "        neighbors = [up,down,left,right]\n",
    "        neighbors = [elt for elt in neighbors if grid[elt[0]][elt[1]] == 0]\n",
    "#         for pt in neighbors:\n",
    "#             if (pt[0] < 1 or pt[0] > 40) or (pt[1] < 1 or pt[1] > 40):\n",
    "#                 neighbors.remove(pt)\n",
    "#             if grid[pt[0]][pt[1]] == 1:\n",
    "#                 neighbors.remove(pt)\n",
    "#     #     print(neighbors)\n",
    "        if neighbors == []:\n",
    "            continue\n",
    "        curr = random.choice(neighbors)\n",
    "#         while grid[curr[0]][curr[1]] == 2:\n",
    "#             print(curr)\n",
    "#             curr = random.choice(neighbors)\n",
    "        grid[curr[0]][curr[1]] = 1\n",
    "        \n",
    "#     count = 0   \n",
    "#     for row in grid:\n",
    "#         count += row.count(1)\n",
    "#     print(f\"Percent of cells opened: {100*count/(d*d)}\")\n",
    "    return grid"
   ]
  },
  {
   "cell_type": "markdown",
   "id": "4e665ef2",
   "metadata": {},
   "source": [
    "board implementation details here if youd like"
   ]
  },
  {
   "cell_type": "code",
   "execution_count": 98,
   "id": "141c5181",
   "metadata": {},
   "outputs": [],
   "source": [
    "grid = createBoard(d)"
   ]
  },
  {
   "cell_type": "code",
   "execution_count": 99,
   "id": "5528fc0a",
   "metadata": {},
   "outputs": [],
   "source": [
    "import matplotlib.pyplot as plt\n",
    "import numpy as np\n",
    "\n",
    "color_map_3 = {\n",
    "    0: 'white',\n",
    "    1: 'black',\n",
    "    2: 'red'\n",
    "}\n",
    "\n",
    "color_map_7 = {\n",
    "    0: 'white',\n",
    "    1: 'black',\n",
    "    2: 'red',\n",
    "    3: 'orange',\n",
    "    4: 'blue',\n",
    "    5: 'purple',\n",
    "    6: 'yellow'\n",
    "}\n",
    "\n",
    "def visualizeGrid(color_map, grid):\n",
    "    fig, ax = plt.subplots()\n",
    "\n",
    "    for i in range(len(grid)):\n",
    "        for j in range(len(grid[i])):\n",
    "            ax.add_patch(plt.Rectangle((j, i), 1, 1, facecolor=color_map[grid[i][j]]))\n",
    "\n",
    "    ax.set_xlim(0, len(grid[0]))\n",
    "    ax.set_ylim(0, len(grid))\n",
    "    ax.set_xticks([])\n",
    "    ax.set_yticks([])\n",
    "    ax.set_aspect('equal')\n",
    "\n",
    "    plt.gca().invert_yaxis() \n",
    "    plt.show()"
   ]
  },
  {
   "cell_type": "code",
   "execution_count": 100,
   "id": "35818753",
   "metadata": {},
   "outputs": [
    {
     "data": {
      "image/png": "[encoded data removed]",
      "text/plain": [
       "<Figure size 432x288 with 1 Axes>"
      ]
     },
     "metadata": {},
     "output_type": "display_data"
    }
   ],
   "source": [
    "visualizeGrid(color_map_3, grid)"
   ]
  },
  {
   "cell_type": "markdown",
   "id": "7ed6fdb8",
   "metadata": {},
   "source": [
    "black = open cells, red = wall"
   ]
  },
  {
   "cell_type": "markdown",
   "id": "67016aef",
   "metadata": {},
   "source": [
    "## Coding the Fire\n"
   ]
  },
  {
   "cell_type": "code",
   "execution_count": 101,
   "id": "c0245dd3",
   "metadata": {},
   "outputs": [],
   "source": [
    "def setFire(grid, pt, q):\n",
    "    if grid[pt[0]][pt[1]] == 3:\n",
    "        return\n",
    "    k = checkNeighbors(grid, pt[0], pt[1], 3)\n",
    "    prob = 1 - (1-q)**k\n",
    "    x = random.random()\n",
    "    if x <= prob:\n",
    "        grid[pt[0]][pt[1]] = 3\n",
    "    return"
   ]
  },
  {
   "cell_type": "code",
   "execution_count": 102,
   "id": "27bb3036",
   "metadata": {},
   "outputs": [],
   "source": [
    "def spreadFire(grid, fireLocs, q, df=None, i=None, timestep=None):\n",
    "    fireLocsNew = []\n",
    "    for curr in fireLocs:\n",
    "        if grid[curr[0]][curr[1]] == 2:\n",
    "            fireLocs.remove(curr)\n",
    "            continue\n",
    "        setFire(grid, curr, q)\n",
    "        if grid[curr[0]][curr[1]] == 3:\n",
    "            fireLocs.remove(curr)\n",
    "            if df is not None and i is not None and timestep is not None:\n",
    "                df.loc[curr][i] = timestep\n",
    "            neighbors = [(curr[0]-1,curr[1]), (curr[0]+1,curr[1]), (curr[0], curr[1]-1), (curr[0], curr[1]+1)]\n",
    "            for elt in neighbors:\n",
    "                if grid[elt[0]][elt[1]] == 1 or grid[elt[0]][elt[1]] == 4:\n",
    "                    fireLocsNew.append(elt)\n",
    "    fireLocs.extend(fireLocsNew)\n",
    "    return fireLocs"
   ]
  },
  {
   "cell_type": "code",
   "execution_count": 103,
   "id": "9abba24e",
   "metadata": {},
   "outputs": [],
   "source": [
    "def reset_grid(grid):\n",
    "    for i in range(len(grid)):  # Iterate through rows\n",
    "            for j in range(len(grid[i])):  # Iterate through columns\n",
    "                if (grid[i][j] in range(3,7)):\n",
    "                    grid[i][j] = 1\n",
    "#     grid[fireLoc[0]][fireLoc[1]] = 3"
   ]
  },
  {
   "cell_type": "markdown",
   "id": "33ad0482",
   "metadata": {},
   "source": [
    "## Location Initializations"
   ]
  },
  {
   "cell_type": "code",
   "execution_count": 104,
   "id": "696d2684",
   "metadata": {},
   "outputs": [],
   "source": [
    "def location_initialization(grid, botLoc=None, butLoc=None, fireLoc=None):\n",
    "    botLoc = (random.randint(1, d), random.randint(1, d))\n",
    "    while grid[botLoc[0]][botLoc[1]] == 0:\n",
    "        botLoc = (random.randint(1, d), random.randint(1, d))\n",
    "\n",
    "    butLoc = (random.randint(1, d), random.randint(1, d))\n",
    "    while grid[butLoc[0]][butLoc[1]] == 0:\n",
    "        butLoc = (random.randint(1, d), random.randint(1, d))\n",
    "\n",
    "    fireLoc = (random.randint(1, d), random.randint(1, d))\n",
    "    while grid[fireLoc[0]][fireLoc[1]] == 0:\n",
    "        fireLoc = (random.randint(1, d), random.randint(1, d))\n",
    "\n",
    "    notDistinct = (botLoc == butLoc) or (botLoc == fireLoc) or (butLoc == fireLoc)\n",
    "    #print(distinct)\n",
    "    i = 1\n",
    "    while notDistinct:\n",
    "#         print(i)\n",
    "        botLoc = (random.randint(1, d), random.randint(1, d))\n",
    "        while grid[botLoc[0]][botLoc[1]] == 0:\n",
    "            botLoc = (random.randint(1, d), random.randint(1, d))\n",
    "        butLoc = (random.randint(1, d), random.randint(1, d))\n",
    "        while grid[butLoc[0]][butLoc[1]] == 0:\n",
    "            butLoc = (random.randint(1, d), random.randint(1, d))\n",
    "        fireLoc = (random.randint(1, d), random.randint(1, d))\n",
    "        while grid[fireLoc[0]][fireLoc[1]] == 0:\n",
    "            fireLoc = (random.randint(1, d), random.randint(1, d))\n",
    "        i = i + 1\n",
    "        notDistinct = (botLoc == butLoc) or (botLoc == fireLoc) or (butLoc == fireLoc)\n",
    "    \n",
    "    return botLoc,butLoc,fireLoc"
   ]
  },
  {
   "cell_type": "markdown",
   "id": "00661f2e",
   "metadata": {},
   "source": [
    "note - for every new board we create we need to run createboard AND location_initialization"
   ]
  },
  {
   "cell_type": "code",
   "execution_count": 105,
   "id": "eb09dce8",
   "metadata": {},
   "outputs": [
    {
     "name": "stdout",
     "output_type": "stream",
     "text": [
      "Bot Location: (6, 23)\n",
      "Button Location: (29, 13)\n",
      "Fire Location: (13, 35)\n"
     ]
    }
   ],
   "source": [
    "botLoc,butLoc,fireLoc = location_initialization(grid)\n",
    "print(f\"Bot Location: {botLoc}\")\n",
    "print(f\"Button Location: {butLoc}\")\n",
    "print(f\"Fire Location: {fireLoc}\")"
   ]
  },
  {
   "cell_type": "markdown",
   "id": "4b5b4102",
   "metadata": {},
   "source": [
    "## Shortest Path (Bot 1)"
   ]
  },
  {
   "cell_type": "code",
   "execution_count": 106,
   "id": "0f57ac55",
   "metadata": {},
   "outputs": [],
   "source": [
    "import copy\n",
    "\n",
    "bot1Grid = copy.deepcopy(grid)\n",
    "bot1Grid[fireLoc[0]][fireLoc[1]] = 3\n",
    "\n",
    "def shortestBot1(grid, botLoc, fireLocs, butLoc):\n",
    "    fringe1 = []\n",
    "    fringe1.append(botLoc)\n",
    "\n",
    "    closed_set = {}\n",
    "    prev1 = {}\n",
    "    prev1[botLoc] = None\n",
    "\n",
    "    while len(fringe1) > 0:\n",
    "        curr1 = fringe1.pop(0)\n",
    "        if curr1 == butLoc:\n",
    "            #print(curr1)\n",
    "#             print(\"Success\")\n",
    "            break\n",
    "\n",
    "        if curr1 not in closed_set:\n",
    "            closed_set.update({curr1: 1})\n",
    "            r1, c1 = curr1[0], curr1[1]\n",
    "            neighbors1 = [(r1-1, c1),(r1+1, c1),(r1, c1-1),(r1, c1+1)]\n",
    "            for elt in neighbors1:\n",
    "                if bot1Grid[elt[0]][elt[1]] == 1 and elt not in closed_set:\n",
    "                    fringe1.append(elt)\n",
    "                    prev1[elt] = curr1\n",
    "    #print(prev1)\n",
    "\n",
    "    path = []\n",
    "    curr = butLoc\n",
    "    while curr is not None:\n",
    "        path.append(curr)\n",
    "        curr = prev1[curr]\n",
    "\n",
    "    # Return the path from start to finish\n",
    "#     path = path[::-1]  # Reverse the path to go from start to finish\n",
    "    return path[::-1]\n"
   ]
  },
  {
   "cell_type": "markdown",
   "id": "8e60058a",
   "metadata": {},
   "source": [
    "## Game Loop (Bot 1)"
   ]
  },
  {
   "cell_type": "code",
   "execution_count": 107,
   "id": "96719752",
   "metadata": {},
   "outputs": [
    {
     "name": "stdout",
     "output_type": "stream",
     "text": [
      "Success!\n"
     ]
    }
   ],
   "source": [
    "def gameLoop1(grid, botLoc, fireLoc, butLoc, trackTime, q):\n",
    "    t = 1\n",
    "    fireLocs = []\n",
    "    r,c = fireLoc[0], fireLoc[1]\n",
    "    grid[r][c] = 3\n",
    "    fireLocs.extend(((r-1, c), (r+1, c), (r,c-1), (r,c+1)))\n",
    "    success = True\n",
    "    path = shortestBot1(bot1Grid, botLoc, fireLocs, butLoc)\n",
    "    for i in path[1:]:\n",
    "        fireLocs = spreadFire(bot1Grid, fireLocs, q)\n",
    "        if bot1Grid[i[0]][i[1]] == 3:\n",
    "            if trackTime: print(f\"Bot1 failed in {t} timesteps.\")\n",
    "            success = False\n",
    "            break\n",
    "        t = t + 1\n",
    "        bot1Grid[i[0]][i[1]] = 4\n",
    "    l = len(path)\n",
    "    bot1Grid[butLoc[0]][butLoc[1]] = 5\n",
    "    bot1Grid[fireLoc[0]][fireLoc[1]] = 6\n",
    "    return success\n",
    "success_1 = gameLoop1(bot1Grid, botLoc, fireLoc, butLoc, True, 0.5)\n",
    "if success_1: print(\"Success!\")"
   ]
  },
  {
   "cell_type": "code",
   "execution_count": 108,
   "id": "ae0c35bf",
   "metadata": {},
   "outputs": [
    {
     "data": {
      "image/png": "[encoded data removed]",
      "text/plain": [
       "<Figure size 432x288 with 1 Axes>"
      ]
     },
     "metadata": {},
     "output_type": "display_data"
    }
   ],
   "source": [
    "visualizeGrid(color_map_7, bot1Grid)"
   ]
  },
  {
   "cell_type": "markdown",
   "id": "418a1f9f",
   "metadata": {},
   "source": [
    "The yellow dot represents the source of the fire. The pink dot represents the button."
   ]
  },
  {
   "cell_type": "code",
   "execution_count": 109,
   "id": "17c9cd55",
   "metadata": {},
   "outputs": [],
   "source": [
    "reset_grid(bot1Grid)"
   ]
  },
  {
   "cell_type": "markdown",
   "id": "f393cd44",
   "metadata": {},
   "source": [
    "## Shortest Path (Bot 2)"
   ]
  },
  {
   "cell_type": "code",
   "execution_count": 110,
   "id": "4d6ecf86",
   "metadata": {},
   "outputs": [],
   "source": [
    "def shortestBot2(grid, botLoc, fireLocs, butLoc, i, path):\n",
    "    currentFires = set([])\n",
    "    currentFires.add(fireLoc)\n",
    "    for row in range(len(grid)):\n",
    "        for col in range(len(grid[row])):\n",
    "            if grid[row][col] == 3:\n",
    "                currentFires.add((row, col))\n",
    "    fringe1 = []\n",
    "    fringe1.append(botLoc)\n",
    "\n",
    "    closed_set = {}\n",
    "    prev1 = {}\n",
    "    prev1[botLoc] = None\n",
    "    success = False\n",
    "\n",
    "    while len(fringe1) > 0:\n",
    "        curr1 = fringe1.pop(0)\n",
    "        if curr1 == butLoc:\n",
    "            #print(curr1)\n",
    "            success = True\n",
    "            break\n",
    "\n",
    "        if curr1 not in closed_set:\n",
    "            closed_set.update({curr1: 1})\n",
    "            r1, c1 = curr1[0], curr1[1]\n",
    "            neighbors1 = [(r1-1, c1),(r1+1, c1),(r1, c1-1),(r1, c1+1)]\n",
    "            for elt in neighbors1:\n",
    "                if (grid[elt[0]][elt[1]] == 1 or grid[elt[0]][elt[1]] == 4) and elt not in closed_set and elt not in currentFires:\n",
    "                    fringe1.append(elt)\n",
    "                    prev1[elt] = curr1\n",
    "    #print(prev1)\n",
    "    if not success: \n",
    "        return path\n",
    "\n",
    "    path2 = []\n",
    "    curr = butLoc\n",
    "#     print(prev1)\n",
    "    while curr is not None:\n",
    "        path2.append(curr)\n",
    "        curr = prev1[curr]\n",
    "    path2 = path2[::-1]\n",
    "    if path2 != path[i:]:\n",
    "        path[i:] = path2\n",
    "\n",
    "    # Return the path from start to finish\n",
    "    return path  # Reverse the path to go from start to finish"
   ]
  },
  {
   "cell_type": "markdown",
   "id": "cbd1c571",
   "metadata": {},
   "source": [
    "## Game Loop (Bot 2)"
   ]
  },
  {
   "cell_type": "code",
   "execution_count": 111,
   "id": "5e925889",
   "metadata": {},
   "outputs": [
    {
     "name": "stdout",
     "output_type": "stream",
     "text": [
      "Success!\n"
     ]
    }
   ],
   "source": [
    "bot2Grid = copy.deepcopy(grid)\n",
    "bot2Grid[fireLoc[0]][fireLoc[1]] = 3\n",
    "\n",
    "def gameLoop2(grid, botLoc, fireLoc, butLoc, trackTime, q):\n",
    "    t = 1\n",
    "    fireLocs = []\n",
    "    r,c = fireLoc[0], fireLoc[1]\n",
    "    grid[r][c] = 3\n",
    "    fireLocs.extend(((r-1, c), (r+1, c), (r,c-1), (r,c+1)))\n",
    "    success = True\n",
    "    pathBot2 = []\n",
    "    pathBot2.append(botLoc)\n",
    "    pathBot2 = shortestBot2(bot2Grid, botLoc, fireLocs, butLoc, 0, pathBot2)\n",
    "    i = 1\n",
    "    while i < len(pathBot2):\n",
    "        fireLocs = spreadFire(bot2Grid, fireLocs, q)\n",
    "        if bot2Grid[pathBot2[i][0]][pathBot2[i][1]] == 3:\n",
    "            if trackTime: \n",
    "                print(f\"Bot2 failed in {t} timesteps.\")\n",
    "            success= False\n",
    "            break\n",
    "        bot2Grid[pathBot2[i][0]][pathBot2[i][1]] = 4\n",
    "        pathBot2 = shortestBot2(bot2Grid, pathBot2[i], fireLocs, butLoc, i, pathBot2)\n",
    "        t = t + 1\n",
    "        i = i + 1\n",
    "#     l = len(path)\n",
    "    bot2Grid[butLoc[0]][butLoc[1]] = 5\n",
    "    bot2Grid[fireLoc[0]][fireLoc[1]] = 6\n",
    "    return success\n",
    "success_2 = gameLoop2(bot2Grid, botLoc, fireLoc, butLoc, True, 0.5)\n",
    "if success_2: print(f\"Success!\")"
   ]
  },
  {
   "cell_type": "code",
   "execution_count": 112,
   "id": "56912246",
   "metadata": {},
   "outputs": [
    {
     "data": {
      "image/png": "[encoded data removed]",
      "text/plain": [
       "<Figure size 432x288 with 1 Axes>"
      ]
     },
     "metadata": {},
     "output_type": "display_data"
    }
   ],
   "source": [
    "visualizeGrid(color_map_7, bot2Grid)"
   ]
  },
  {
   "cell_type": "code",
   "execution_count": 113,
   "id": "d7e044ce",
   "metadata": {},
   "outputs": [],
   "source": [
    "reset_grid(bot2Grid)"
   ]
  },
  {
   "cell_type": "markdown",
   "id": "ad2e1264",
   "metadata": {},
   "source": [
    "## Shortest Path (Bot 3)"
   ]
  },
  {
   "cell_type": "code",
   "execution_count": 114,
   "id": "f6e3aad2",
   "metadata": {},
   "outputs": [],
   "source": [
    "def shortestBot3(grid, botLoc, fireLocs, butLoc, i, path):\n",
    "    fringe1 = []\n",
    "    fringe1.append(botLoc)\n",
    "\n",
    "    closed_set = {}\n",
    "    prev1 = {}\n",
    "    prev1[botLoc] = None\n",
    "    success = False\n",
    "\n",
    "    while len(fringe1) > 0:\n",
    "        curr1 = fringe1.pop(0)\n",
    "        if curr1 == butLoc:\n",
    "            #print(curr1)\n",
    "            success = True\n",
    "            break\n",
    "\n",
    "        if curr1 not in closed_set:\n",
    "            closed_set.update({curr1: 1})\n",
    "            r1, c1 = curr1[0], curr1[1]\n",
    "            neighbors1 = [(r1-1, c1),(r1+1, c1),(r1, c1-1),(r1, c1+1)]\n",
    "            for elt in neighbors1:\n",
    "                if (grid[elt[0]][elt[1]] == 1 or grid[elt[0]][elt[1]] == 4) and elt not in closed_set and (elt not in fireLocs or elt == butLoc):\n",
    "                    fringe1.append(elt)\n",
    "                    prev1[elt] = curr1\n",
    "    #print(prev1)\n",
    "    if not success: \n",
    "        return path\n",
    "\n",
    "    path2 = []\n",
    "    curr = butLoc\n",
    "#     print(prev1)\n",
    "    while curr is not None:\n",
    "        path2.append(curr)\n",
    "        curr = prev1[curr]\n",
    "    path2 = path2[::-1]\n",
    "    if path2 != path[i:]:\n",
    "        path[i:] = path2\n",
    "\n",
    "    # Return the path from start to finish\n",
    "    return path  # Reverse the path to go from start to finish"
   ]
  },
  {
   "cell_type": "markdown",
   "id": "14918ab8",
   "metadata": {},
   "source": [
    "## Game Loop (Bot 3)"
   ]
  },
  {
   "cell_type": "code",
   "execution_count": 115,
   "id": "9dffe8b9",
   "metadata": {},
   "outputs": [
    {
     "name": "stdout",
     "output_type": "stream",
     "text": [
      "True\n",
      "True\n",
      "True\n",
      "False\n",
      "False\n",
      "True\n",
      "True\n",
      "True\n",
      "False\n",
      "False\n",
      "0.6\n"
     ]
    }
   ],
   "source": [
    "bot3Grid = copy.deepcopy(grid)\n",
    "bot3Grid[fireLoc[0]][fireLoc[1]] = 3\n",
    "\n",
    "def gameLoop3(grid, botLoc, fireLoc, butLoc, trackTime, q):\n",
    "    t = 1\n",
    "    fireLocs = []\n",
    "    r,c = fireLoc[0], fireLoc[1]\n",
    "    grid[r][c] = 3\n",
    "    fireLocs.extend(((r-1, c), (r+1, c), (r,c-1), (r,c+1)))\n",
    "    success = True\n",
    "    pathBot3 = []\n",
    "    pathBot3.append(botLoc)\n",
    "    pathBot3 = shortestBot3(bot3Grid, botLoc, fireLocs, butLoc, 0, pathBot3)\n",
    "    i = 1\n",
    "    while i < len(pathBot3):\n",
    "        fireLocs = spreadFire(bot3Grid, fireLocs, q)\n",
    "        if bot3Grid[pathBot3[i][0]][pathBot3[i][1]] == 3:\n",
    "            if trackTime:\n",
    "                print(f\"Bot3 failed in {t} timesteps.\")\n",
    "            success= False\n",
    "            break\n",
    "        bot3Grid[pathBot3[i][0]][pathBot3[i][1]] = 4\n",
    "        pathBot3 = shortestBot3(bot3Grid, pathBot3[i], fireLocs, butLoc, i, pathBot3)\n",
    "        t = t + 1\n",
    "        i = i + 1\n",
    "#     l = len(path)\n",
    "    bot3Grid[butLoc[0]][butLoc[1]] = 5\n",
    "    bot3Grid[fireLoc[0]][fireLoc[1]] = 6\n",
    "    return success\n",
    "\n",
    "count = 0\n",
    "for i in range(10):\n",
    "    botLoc,butLoc,fireLoc = location_initialization(grid)\n",
    "    reset_grid(bot3Grid)\n",
    "    success = gameLoop3(bot3Grid, botLoc, fireLoc, butLoc, False, 1)\n",
    "    print(success)\n",
    "    if success:\n",
    "        count += 1\n",
    "print(count/10)"
   ]
  },
  {
   "cell_type": "code",
   "execution_count": 116,
   "id": "76aa23f2",
   "metadata": {},
   "outputs": [
    {
     "data": {
      "image/png": "[encoded data removed]",
      "text/plain": [
       "<Figure size 432x288 with 1 Axes>"
      ]
     },
     "metadata": {},
     "output_type": "display_data"
    }
   ],
   "source": [
    "visualizeGrid(color_map_7, bot3Grid)"
   ]
  },
  {
   "cell_type": "code",
   "execution_count": 117,
   "id": "d767e944",
   "metadata": {},
   "outputs": [],
   "source": [
    "reset_grid(bot3Grid)"
   ]
  },
  {
   "cell_type": "markdown",
   "id": "438de927",
   "metadata": {},
   "source": [
    "## Bot 4 Logic\n",
    "The expression that represents the probability of a given cell being set on fire is:\n",
    "$$\n",
    "1-(1-q)^K\n",
    "$$\n",
    "where\n",
    "$q = \\text{ship flammability,}$\n",
    "$K = \\text{number of on-fire neighbors.}$\n",
    "\n",
    "Our approach for Bot 4 will be an implementation of Dijkstra's Shortest-Path Algorithm in which our cost function will take in a given cell's probability of being set on fire several steps in advance. There are a few ways to perform this:\n",
    "1. Markov Chain Monte Carlo Method: Before starting the algorithm, simulate the fire spreading throughout the grid $n$ times. Create a dataframe that records each open cell and which timestep $t_i$ for $i=1,...,n$ it was set on fire, with cells as rows and simulations as columns. We will be able to estimate the likelihood of a given cell being on fire by a given timestep by taking the rate of being on fire out of all simulations (shown below). This will give an estimate for the true distribution of probabilities for each cell. Then, when running Dijkstra's, when considering a cell for exploration, we take into account its calculated probability.\n",
    "2. For each iteration of Dijkstra's, given a cell being considered, mathematically calculate its probability that it will be set on fire by a certain timestep. This is possible but would be more expensive than simulation.\n",
    "\n",
    "We will choose option 1 with cost function $$C(node)=\\alpha * p(\\text{node on fire}|t)+\\beta * d$$ \n",
    "where \n",
    "$$\\alpha = \\text{scaling factor for } p,$$\n",
    "$$p(\\text{node on fire}|t)=\\frac{1}{n}\\sum_{i=1}^{n} 1 (t_i\\leq t),$$\n",
    "$$\\beta = \\text{scaling factor for } d$$\n",
    "$$d=\\text{Manhattan distance from node to button.}$$\n",
    "\n",
    "Note that using the Manhattan distance is a relaxation of the problem, as it assumes that every cell between the bot and the button is open.\n",
    "\n",
    "Also note that the coefficients $\\alpha$ and $\\beta$ allow us to quantify how risk-averse we want to be. Early on, the algorithm will prioritize low-risk cells; later on, the algorithm will prioritize closer cells to the button. After trial and error, we choose $\\alpha = 5$ and $\\beta = 0.5$."
   ]
  },
  {
   "cell_type": "markdown",
   "id": "d0a5140b",
   "metadata": {},
   "source": [
    "## Bot 4 Data Collection"
   ]
  },
  {
   "cell_type": "code",
   "execution_count": 118,
   "id": "9bb053ff",
   "metadata": {},
   "outputs": [],
   "source": [
    "def simulateFire(grid, fireLoc, df, numSims, q):\n",
    "    r,c = fireLoc[0], fireLoc[1]\n",
    "    for i in range(numSims):\n",
    "        grid[r][c] = 3\n",
    "        fireLocs = []\n",
    "        fireLocs.extend(((r-1, c), (r+1, c), (r,c-1), (r,c+1)))\n",
    "        t = 0\n",
    "        while len(fireLocs) > 0:\n",
    "            fireLocs = spreadFire(grid, fireLocs, q, df, i, t)\n",
    "            t = t + 1\n",
    "        reset_grid(grid)\n",
    "    return df"
   ]
  },
  {
   "cell_type": "code",
   "execution_count": 119,
   "id": "77b6109f",
   "metadata": {},
   "outputs": [],
   "source": [
    "def p(pt, df, t):\n",
    "    return ((df.loc[pt] <= t).sum() / len(df.columns))"
   ]
  },
  {
   "cell_type": "code",
   "execution_count": 120,
   "id": "d764809c",
   "metadata": {},
   "outputs": [],
   "source": [
    "def d_manhattan(pt, butLoc):\n",
    "    return abs(butLoc[0]-pt[0]) + abs(butLoc[1]-pt[1])"
   ]
  },
  {
   "cell_type": "code",
   "execution_count": 121,
   "id": "69b82531",
   "metadata": {},
   "outputs": [],
   "source": [
    "def C(pt, df, t, butLoc):\n",
    "    return 4 * p(pt, df, t) + 0.475*d_manhattan(pt, butLoc)"
   ]
  },
  {
   "cell_type": "code",
   "execution_count": 122,
   "id": "204848a4",
   "metadata": {},
   "outputs": [
    {
     "name": "stdout",
     "output_type": "stream",
     "text": [
      "         Sim_1  Sim_2  Sim_3  Sim_4  Sim_5  Sim_6  Sim_7  Sim_8  Sim_9  \\\n",
      "Row Col                                                                  \n",
      "1   1      146    138    127    114    110    119    125    124    139   \n",
      "    2      143    136    124    110    105    115    125    123    137   \n",
      "    3      144    134    125    107    106    117    127    125    142   \n",
      "    4        0      0      0      0      0      0      0      0      0   \n",
      "    5      127    115    115    107     97    103    109    111    125   \n",
      "\n",
      "         Sim_10  Sim_11  Sim_12  Sim_13  Sim_14  Sim_15  \n",
      "Row Col                                                  \n",
      "1   1       119     112     122     107     118     115  \n",
      "    2       118     110     121     105     117     113  \n",
      "    3       122     111     123     109     119     114  \n",
      "    4         0       0       0       0       0       0  \n",
      "    5        99     111     112     102     110     104  \n"
     ]
    }
   ],
   "source": [
    "import itertools\n",
    "import pandas as pd\n",
    "\n",
    "bot4Grid = copy.deepcopy(grid)\n",
    "def simulateBot4(grid, fireLoc, q):\n",
    "    numSims = 15\n",
    "    cells = list(itertools.product(range(1, 41), repeat=2))\n",
    "    df = pd.DataFrame(0, index=pd.MultiIndex.from_tuples(cells, names=[\"Row\", \"Col\"]),\n",
    "                      columns=[f'Sim_{i+1}' for i in range(numSims)])\n",
    "    df = simulateFire(grid, fireLoc, df, numSims, q)\n",
    "    return df\n",
    "\n",
    "df = simulateBot4(bot4Grid, fireLoc, 0.5)\n",
    "print(df.head())"
   ]
  },
  {
   "cell_type": "code",
   "execution_count": 123,
   "id": "c441b4d5",
   "metadata": {},
   "outputs": [
    {
     "name": "stdout",
     "output_type": "stream",
     "text": [
      "Estimated cost of going to (15, 25) by 150 timesteps: 12.075\n"
     ]
    }
   ],
   "source": [
    "# Test it out\n",
    "sampleLocation = (15,25)\n",
    "print(f\"Estimated cost of going to {sampleLocation} by 150 timesteps: {C(sampleLocation, df, 150, butLoc)}\")"
   ]
  },
  {
   "cell_type": "markdown",
   "id": "53335bad",
   "metadata": {},
   "source": [
    "## Shortest Path (Bot 4)"
   ]
  },
  {
   "cell_type": "code",
   "execution_count": 124,
   "id": "444025b1",
   "metadata": {},
   "outputs": [],
   "source": [
    "from queue import PriorityQueue as pq\n",
    "\n",
    "def shortestBot4(grid, botLoc, butLoc, df):\n",
    "    fringe4 = pq()\n",
    "    fringe4.put((0.0, botLoc))\n",
    "\n",
    "    dist = {}\n",
    "    dist[botLoc] = 0\n",
    "\n",
    "    prev4 = {}\n",
    "    prev4[botLoc] = None\n",
    "    \n",
    "    time = {}\n",
    "    time[botLoc] = 0\n",
    "\n",
    "#     t = 1\n",
    "\n",
    "    while fringe4.qsize() > 0:\n",
    "        curr = fringe4.get()\n",
    "        curr1 = curr[1]\n",
    "        priority = curr[0]\n",
    "        if curr1 == butLoc:\n",
    "#             print(\"Success\")\n",
    "            break\n",
    "        t = time[curr1]\n",
    "        r1, c1 = curr1[0], curr1[1]\n",
    "        neighbors1 = [(r1-1, c1),(r1+1, c1),(r1, c1-1),(r1, c1+1)]\n",
    "        for elt in neighbors1:\n",
    "            if (elt[0] < 1 or elt[0] > 40) or (elt[1] < 1 or elt[1] > 40):\n",
    "                continue\n",
    "            elt_cost = C(elt, df, t+1, butLoc)\n",
    "            if (bot4Grid[elt[0]][elt[1]] == 1 and (elt == butLoc or elt not in dist or elt_cost < dist[elt])):\n",
    "                fringe4.put((elt_cost, elt))\n",
    "                dist[elt] = elt_cost\n",
    "                prev4[elt] = curr1\n",
    "                time[elt] = t + 1\n",
    "\n",
    "#         t = t + 1\n",
    "\n",
    "    path4 = []\n",
    "    curr = butLoc\n",
    "    while curr is not None:\n",
    "        path4.append(curr)\n",
    "        curr = prev4[curr]\n",
    "\n",
    "    # Return the path from start to finish\n",
    "    return path4[::-1]"
   ]
  },
  {
   "cell_type": "markdown",
   "id": "84ad9b1d",
   "metadata": {},
   "source": [
    "## Game Loop (Bot 4)"
   ]
  },
  {
   "cell_type": "code",
   "execution_count": 125,
   "id": "64eb7481",
   "metadata": {},
   "outputs": [
    {
     "name": "stdout",
     "output_type": "stream",
     "text": [
      "Success!\n"
     ]
    }
   ],
   "source": [
    "def gameLoop4(grid, botLoc, fireLoc, butLoc, trackTime, q):\n",
    "    df = simulateBot4(grid, fireLoc, q=q)\n",
    "    t = 1\n",
    "    fireLocs = []\n",
    "    r,c = fireLoc[0], fireLoc[1]\n",
    "    fireLocs.extend(((r-1, c), (r+1, c), (r,c-1), (r,c+1)))\n",
    "    success = True\n",
    "    path4 = []\n",
    "    path4 = shortestBot4(bot4Grid, botLoc, butLoc, df)\n",
    "    grid[r][c] = 3\n",
    "    for i in path4[1:]:\n",
    "        if i == path4[-1]:\n",
    "            break\n",
    "        fireLocs = spreadFire(bot4Grid, fireLocs, q=q)\n",
    "        if bot4Grid[i[0]][i[1]] == 3:\n",
    "            if trackTime: \n",
    "                print(f\"Bot4 failed in {t} timesteps.\")\n",
    "            success= False\n",
    "            break\n",
    "        t = t + 1\n",
    "        bot4Grid[i[0]][i[1]] = 4\n",
    "    # l = len(path4)\n",
    "    bot4Grid[butLoc[0]][butLoc[1]] = 5\n",
    "    bot4Grid[fireLoc[0]][fireLoc[1]] = 6\n",
    "    return success\n",
    "\n",
    "\n",
    "success_4 = gameLoop4(bot4Grid, botLoc, fireLoc, butLoc, True, 0.5)\n",
    "if success_4: print(\"Success!\")"
   ]
  },
  {
   "cell_type": "code",
   "execution_count": 126,
   "id": "69a15ac8",
   "metadata": {},
   "outputs": [
    {
     "data": {
      "image/png": "[encoded data removed]",
      "text/plain": [
       "<Figure size 432x288 with 1 Axes>"
      ]
     },
     "metadata": {},
     "output_type": "display_data"
    }
   ],
   "source": [
    "visualizeGrid(color_map_7, bot4Grid)"
   ]
  },
  {
   "cell_type": "code",
   "execution_count": 127,
   "id": "c233b467",
   "metadata": {},
   "outputs": [],
   "source": [
    "reset_grid(bot4Grid)"
   ]
  },
  {
   "cell_type": "markdown",
   "id": "b86a350f",
   "metadata": {},
   "source": [
    "## Data Analysis"
   ]
  },
  {
   "cell_type": "code",
   "execution_count": 128,
   "id": "77cba183",
   "metadata": {},
   "outputs": [],
   "source": [
    "def does_path_exist(grid, fireLoc, butLoc, q):\n",
    "    r,c = fireLoc[0], fireLoc[1]\n",
    "    grid[fireLoc[0]][fireLoc[1]] = 3\n",
    "    fireLocs = []\n",
    "    fireLocs.extend(((r-1, c), (r+1, c), (r,c-1), (r,c+1)))\n",
    "    while grid[butLoc[0]][butLoc[1]] != 3:\n",
    "        fireLocs = spreadFire(grid, fireLocs, q)\n",
    "    \n",
    "    fringe = []\n",
    "    fringe.append(botLoc)\n",
    "    closed_set = {}\n",
    "    \n",
    "    while len(fringe) > 0:\n",
    "        curr1 = fringe.pop(0)\n",
    "        if curr1 == butLoc:\n",
    "            reset_grid(grid)\n",
    "            return True\n",
    "            \n",
    "        if curr1 not in closed_set:\n",
    "            closed_set.update({curr1: 1})\n",
    "            r1, c1 = curr1[0], curr1[1]\n",
    "            neighbors1 = [(r1-1, c1),(r1+1, c1),(r1, c1-1),(r1, c1+1)]\n",
    "            for elt in neighbors1:\n",
    "                if bot1Grid[elt[0]][elt[1]] == 1 and elt not in closed_set:\n",
    "                    fringe.append(elt)\n",
    "                    \n",
    "    reset_grid(grid)\n",
    "    return False\n",
    "# botLoc,butLoc,fireLoc = location_initialization(grid)\n",
    "# print(does_path_exist(grid, fireLoc, butLoc, 0.5))"
   ]
  },
  {
   "cell_type": "code",
   "execution_count": 131,
   "id": "0d647e12",
   "metadata": {},
   "outputs": [
    {
     "name": "stdout",
     "output_type": "stream",
     "text": [
      "Run 1 out of 5 for q: 0.1\n",
      "Run 2 out of 5 for q: 0.1\n",
      "Run 3 out of 5 for q: 0.1\n",
      "Run 4 out of 5 for q: 0.1\n",
      "Run 5 out of 5 for q: 0.1\n",
      "Success rates, button starts closer to fire: \n",
      "Bot1    1\n",
      "Bot2    1\n",
      "Bot3    1\n",
      "Bot4    1\n",
      "Name: 0.1, dtype: int64\n",
      "Success rates, button starts closer to bot: \n",
      "Bot1    1\n",
      "Bot2    1\n",
      "Bot3    1\n",
      "Bot4    1\n",
      "Name: 0.1, dtype: int64\n",
      "\n",
      "Run 1 out of 5 for q: 0.3\n",
      "Run 2 out of 5 for q: 0.3\n",
      "Run 3 out of 5 for q: 0.3\n",
      "Run 4 out of 5 for q: 0.3\n",
      "Run 5 out of 5 for q: 0.3\n",
      "Success rates, button starts closer to fire: \n",
      "Bot1    0.4\n",
      "Bot2    0.6\n",
      "Bot3    0.4\n",
      "Bot4    0.6\n",
      "Name: 0.3, dtype: float64\n",
      "Success rates, button starts closer to bot: \n",
      "Bot1    1\n",
      "Bot2    1\n",
      "Bot3    1\n",
      "Bot4    1\n",
      "Name: 0.3, dtype: int64\n",
      "\n",
      "Run 1 out of 5 for q: 0.5\n",
      "Run 2 out of 5 for q: 0.5\n",
      "Run 3 out of 5 for q: 0.5\n",
      "Run 4 out of 5 for q: 0.5\n",
      "Run 5 out of 5 for q: 0.5\n",
      "Success rates, button starts closer to fire: \n",
      "Bot1    0.8\n",
      "Bot2    0.8\n",
      "Bot3    0.8\n",
      "Bot4    0.6\n",
      "Name: 0.5, dtype: float64\n",
      "Success rates, button starts closer to bot: \n",
      "Bot1    1\n",
      "Bot2    1\n",
      "Bot3    1\n",
      "Bot4    1\n",
      "Name: 0.5, dtype: int64\n",
      "\n",
      "Run 1 out of 5 for q: 0.7\n",
      "Run 2 out of 5 for q: 0.7\n",
      "Run 3 out of 5 for q: 0.7\n",
      "Run 4 out of 5 for q: 0.7\n",
      "Run 5 out of 5 for q: 0.7\n",
      "Success rates, button starts closer to fire: \n",
      "Bot1    0.2\n",
      "Bot2    0.4\n",
      "Bot3    0.4\n",
      "Bot4    0.2\n",
      "Name: 0.7, dtype: float64\n",
      "Success rates, button starts closer to bot: \n",
      "Bot1    1\n",
      "Bot2    1\n",
      "Bot3    1\n",
      "Bot4    1\n",
      "Name: 0.7, dtype: int64\n",
      "\n",
      "Run 1 out of 5 for q: 0.9\n",
      "Run 2 out of 5 for q: 0.9\n",
      "Run 3 out of 5 for q: 0.9\n",
      "Run 4 out of 5 for q: 0.9\n",
      "Run 5 out of 5 for q: 0.9\n",
      "Success rates, button starts closer to fire: \n",
      "Bot1    0.2\n",
      "Bot2    0.2\n",
      "Bot3    0.2\n",
      "Bot4    0.0\n",
      "Name: 0.9, dtype: float64\n",
      "Success rates, button starts closer to bot: \n",
      "Bot1    1\n",
      "Bot2    1\n",
      "Bot3    1\n",
      "Bot4    1\n",
      "Name: 0.9, dtype: int64\n",
      "\n"
     ]
    }
   ],
   "source": [
    "# q_list = [0.1,0.2,0.3,0.4,0.5,0.6,0.7,0.8,0.9,1]\n",
    "q_list = [0.1, 0.3, 0.5, 0.7, 0.9]\n",
    "success_df_1 = pd.DataFrame(0, index=q_list, columns=['Bot1', 'Bot2', 'Bot3', 'Bot4'])\n",
    "success_df_2 = pd.DataFrame(0, index=q_list, columns=['Bot1', 'Bot2', 'Bot3', 'Bot4'])\n",
    "numRounds = 5\n",
    "# numGridsForTesting = 5\n",
    "# grids_for_testing = []\n",
    "#we would envelppe this in a for g in grids_for_testing and save the data both for the aggregate bot statistics and for per board basis if we think there might be anything cool, might take too long though\n",
    "for q in q_list:\n",
    "    success_rates_1 = [0.0,0.0,0.0,0.0]\n",
    "    success_rates_2 = [0.0,0.0,0.0,0.0]\n",
    "    counts_1 = [0,0,0,0]\n",
    "    counts_2 = [0,0,0,0]\n",
    "    num_1 = 0\n",
    "    for i in range(numRounds):\n",
    "        print(f\"Run {i + 1} out of {numRounds} for q: {q}\")\n",
    "        \n",
    "        grid_to_test = createBoard(d)\n",
    "        botLoc,butLoc,fireLoc = location_initialization(grid_to_test)\n",
    "        path_exists = does_path_exist(grid_to_test, fireLoc, butLoc, q)\n",
    "        while not path_exists:\n",
    "            botLoc,butLoc,fireLoc = location_initialization(grid_to_test)\n",
    "            path_exists = does_path_exist(grid_to_test, fireLoc, butLoc, q)\n",
    "#         visualizeGrid(color_map_3, grid_to_test)\n",
    "#         print(f\"Bot location: {botLoc}\\nFire starts at: {fireLoc}\\nButton location: {butLoc}\")\n",
    "        \n",
    "        closer_to_fire = d_manhattan(botLoc, butLoc) >= d_manhattan(fireLoc, butLoc)\n",
    "    \n",
    "        bot1Grid = copy.deepcopy(grid_to_test)\n",
    "        bot2Grid = copy.deepcopy(grid_to_test)\n",
    "        bot3Grid = copy.deepcopy(grid_to_test)\n",
    "        bot4Grid = copy.deepcopy(grid_to_test)\n",
    "            \n",
    "        # Run on a board configuration twice per round, switching fire and bot positions to ensure even spread of fire closer to button vs bot closer to button\n",
    "        if gameLoop1(bot1Grid, botLoc, fireLoc, butLoc, False, q):\n",
    "            if closer_to_fire:\n",
    "                counts_1[0] += 1 \n",
    "            else: counts_2[0] += 1\n",
    "        bot1Grid = copy.deepcopy(grid_to_test)\n",
    "        if gameLoop1(bot1Grid, fireLoc, botLoc, butLoc, False, q):\n",
    "            if closer_to_fire:\n",
    "                counts_2[0] += 1 \n",
    "            else: counts_1[0] += 1\n",
    "#         print(\"Bot 1 Done\")\n",
    "\n",
    "        if gameLoop2(bot2Grid, botLoc, fireLoc, butLoc, False, q):\n",
    "            if closer_to_fire:\n",
    "                counts_1[1] += 1 \n",
    "            else: counts_2[1] += 1\n",
    "        bot2Grid = copy.deepcopy(grid_to_test)\n",
    "        if gameLoop2(bot2Grid, fireLoc, botLoc, butLoc, False, q):\n",
    "            if closer_to_fire:\n",
    "                counts_2[1] += 1 \n",
    "            else: counts_1[1] += 1\n",
    "#         print(\"Bot 2 Done\")\n",
    "\n",
    "\n",
    "        if gameLoop3(bot3Grid, botLoc, fireLoc, butLoc, False, q):\n",
    "            if closer_to_fire:\n",
    "                counts_1[2] += 1 \n",
    "            else: counts_2[2] += 1\n",
    "        bot3Grid = copy.deepcopy(grid_to_test)\n",
    "        if gameLoop3(bot3Grid, fireLoc, botLoc, butLoc, False, q):\n",
    "            if closer_to_fire:\n",
    "                counts_2[2] += 1 \n",
    "            else: counts_1[2] += 1\n",
    "#         print(\"Bot 3 Done\")\n",
    "\n",
    "\n",
    "        if gameLoop4(bot4Grid, botLoc, fireLoc, butLoc, False, q):\n",
    "            if closer_to_fire:\n",
    "                counts_1[3] += 1 \n",
    "            else: counts_2[3] += 1\n",
    "        bot4Grid = copy.deepcopy(grid_to_test)\n",
    "        if gameLoop4(bot4Grid, fireLoc, botLoc, butLoc, False, q):\n",
    "            if closer_to_fire:\n",
    "                counts_2[3] += 1 \n",
    "            else: counts_1[3] += 1\n",
    "#         print(\"Bot 4 Done\")\n",
    "\n",
    "    for bot in range(len(counts_1)):\n",
    "        success_rates_1[bot] = counts_1[bot]/numRounds\n",
    "        success_rates_2[bot] = counts_2[bot]/numRounds\n",
    "    success_df_1.loc[q] = success_rates_1\n",
    "    success_df_2.loc[q] = success_rates_2\n",
    "    print(f\"Success rates, button starts closer to fire: \\n{success_df_1.loc[q]}\")\n",
    "    print(f\"Success rates, button starts closer to bot: \\n{success_df_2.loc[q]}\")\n",
    "    print()"
   ]
  },
  {
   "cell_type": "code",
   "execution_count": 132,
   "id": "11c2221d",
   "metadata": {},
   "outputs": [
    {
     "data": {
      "image/png": "[encoded data removed]",
      "text/plain": [
       "<Figure size 432x288 with 1 Axes>"
      ]
     },
     "metadata": {
      "needs_background": "light"
     },
     "output_type": "display_data"
    },
    {
     "data": {
      "image/png": "[encoded data removed]",
      "text/plain": [
       "<Figure size 432x288 with 1 Axes>"
      ]
     },
     "metadata": {
      "needs_background": "light"
     },
     "output_type": "display_data"
    },
    {
     "data": {
      "image/png": "[encoded data removed]",
      "text/plain": [
       "<Figure size 432x288 with 1 Axes>"
      ]
     },
     "metadata": {
      "needs_background": "light"
     },
     "output_type": "display_data"
    },
    {
     "data": {
      "image/png": "[encoded data removed]",
      "text/plain": [
       "<Figure size 432x288 with 1 Axes>"
      ]
     },
     "metadata": {
      "needs_background": "light"
     },
     "output_type": "display_data"
    }
   ],
   "source": [
    "# Plotting for each bot, Button closer to Fire\n",
    "for bot in ['Bot1', 'Bot2', 'Bot3', 'Bot4']:\n",
    "    plt.figure()  # Create a new figure for each bot\n",
    "    plt.plot(q_list, success_df_1[bot], marker='o')\n",
    "    \n",
    "    # Add labels and title\n",
    "    plt.title(f'Success Rate for {bot}, Button closer to Fire')\n",
    "    plt.xlabel('q (flammability)')\n",
    "    plt.ylabel('Success Rate')\n",
    "    \n",
    "    # Show the grid for clarity\n",
    "    plt.grid(True)\n",
    "    \n",
    "    # Show the plot\n",
    "    plt.show()\n"
   ]
  },
  {
   "cell_type": "code",
   "execution_count": 133,
   "id": "b93386eb",
   "metadata": {},
   "outputs": [
    {
     "data": {
      "image/png": "[encoded data removed]",
      "text/plain": [
       "<Figure size 432x288 with 1 Axes>"
      ]
     },
     "metadata": {
      "needs_background": "light"
     },
     "output_type": "display_data"
    },
    {
     "data": {
      "image/png": "[encoded data removed]",
      "text/plain": [
       "<Figure size 432x288 with 1 Axes>"
      ]
     },
     "metadata": {
      "needs_background": "light"
     },
     "output_type": "display_data"
    },
    {
     "data": {
      "image/png": "[encoded data removed]",
      "text/plain": [
       "<Figure size 432x288 with 1 Axes>"
      ]
     },
     "metadata": {
      "needs_background": "light"
     },
     "output_type": "display_data"
    },
    {
     "data": {
      "image/png": "[encoded data removed]",
      "text/plain": [
       "<Figure size 432x288 with 1 Axes>"
      ]
     },
     "metadata": {
      "needs_background": "light"
     },
     "output_type": "display_data"
    }
   ],
   "source": [
    "# Plotting for each bot, button closer to bot\n",
    "for bot in ['Bot1', 'Bot2', 'Bot3', 'Bot4']:\n",
    "    plt.figure()  # Create a new figure for each bot\n",
    "    plt.plot(q_list, success_df_2[bot], marker='o')\n",
    "    \n",
    "    # Add labels and title\n",
    "    plt.title(f'Success Rate for {bot}, Button closer to Bot')\n",
    "    plt.xlabel('q (flammability)')\n",
    "    plt.ylabel('Success Rate')\n",
    "    \n",
    "    # Show the grid for clarity\n",
    "    plt.grid(True)\n",
    "    \n",
    "    # Show the plot\n",
    "    plt.show()"
   ]
  }
 ],
 "metadata": {
  "kernelspec": {
   "display_name": "Python 3 (ipykernel)",
   "language": "python",
   "name": "python3"
  },
  "language_info": {
   "codemirror_mode": {
    "name": "ipython",
    "version": 3
   },
   "file_extension": ".py",
   "mimetype": "text/x-python",
   "name": "python",
   "nbconvert_exporter": "python",
   "pygments_lexer": "ipython3",
   "version": "3.9.7"
  }
 },
 "nbformat": 4,
 "nbformat_minor": 5
}
