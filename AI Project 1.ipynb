{
 "cells": [
  {
   "cell_type": "markdown",
   "id": "aba9b7e3",
   "metadata": {},
   "source": [
    "## CS 520 Project 1\n",
    "Tejaswi Tripathi (tt507)\n",
    "\n",
    "Ridwanur Sarder (rrs148)\n",
    "\n",
    "** Write-up & Data Analysis at Bottom !"
   ]
  },
  {
   "cell_type": "markdown",
   "id": "eec7c5c3",
   "metadata": {},
   "source": [
    "## Building the Ship"
   ]
  },
  {
   "cell_type": "code",
   "execution_count": 1,
   "id": "b85afeba",
   "metadata": {},
   "outputs": [],
   "source": [
    "import random\n",
    "\n",
    "d = 40\n",
    "\n",
    "#Helper method to check neighbors in board initialization\n",
    "def checkNeighbors(grid, r, c, a):\n",
    "    return [grid[r-1][c],grid[r+1][c],grid[r][c-1],grid[r][c+1]].count(a)\n",
    "\n",
    "#Create new board with given edge length\n",
    "def createBoard(d):\n",
    "    grid = [[0 for _ in range(d+2)] for _ in range(d+2)]\n",
    "\n",
    "    for j in range(d+2):\n",
    "        grid[0][j] = 2 \n",
    "        grid[d+1][j] = 2 \n",
    "    for i in range(d+2):\n",
    "        grid[i][0] = 2 \n",
    "        grid[i][d+1] = 2\n",
    "    x = random.randint(1, d)\n",
    "    y = random.randint(1, d)\n",
    "\n",
    "    fringe = []\n",
    "    fringe.append((x,y))\n",
    "\n",
    "    deadEnds = []\n",
    "\n",
    "    while len(fringe) > 0:\n",
    "        curr = random.choice(fringe)\n",
    "        fringe.remove(curr)\n",
    "        r, c = curr[0], curr[1]\n",
    "        if checkNeighbors(grid, r, c, 1) > 1:\n",
    "            continue\n",
    "        grid[r][c] = 1\n",
    "        up = (r-1, c) \n",
    "        down = (r+1, c) \n",
    "        left = (r, c-1) \n",
    "        right = (r, c+1)\n",
    "        deadEnd = True\n",
    "        for elt in [up, down, left, right]:\n",
    "            if grid[elt[0]][elt[1]] == 0:\n",
    "                numOpenNeighbors = checkNeighbors(grid, elt[0], elt[1], 1)\n",
    "                if numOpenNeighbors == 1:\n",
    "                    deadEnd = False\n",
    "                    fringe.append(elt)\n",
    "        if deadEnd:\n",
    "            deadEnds.append(curr)\n",
    "    \n",
    "    for elt in deadEnds:\n",
    "        if grid[elt[0]][elt[1]] == 2:\n",
    "            deadEnds.remove(elt)\n",
    "            continue\n",
    "        numOpenNeighbors = checkNeighbors(grid, elt[0], elt[1], 1)\n",
    "        if numOpenNeighbors > 1:\n",
    "            deadEnds.remove(elt)\n",
    "\n",
    "    newList = random.sample(deadEnds, len(deadEnds) // 2)\n",
    "    for elt in newList:\n",
    "        r = elt[0]\n",
    "        c = elt[1]\n",
    "        up = (r-1, c) \n",
    "        down = (r+1, c) \n",
    "        left = (r, c-1) \n",
    "        right = (r, c+1)\n",
    "        neighbors = [up,down,left,right]\n",
    "        neighbors = [elt for elt in neighbors if grid[elt[0]][elt[1]] == 0]\n",
    "        if neighbors == []:\n",
    "            continue\n",
    "        curr = random.choice(neighbors)\n",
    "        grid[curr[0]][curr[1]] = 1\n",
    "        \n",
    "    return grid"
   ]
  },
  {
   "cell_type": "markdown",
   "id": "4e665ef2",
   "metadata": {},
   "source": [
    "board implementation details here if youd like"
   ]
  },
  {
   "cell_type": "code",
   "execution_count": 2,
   "id": "141c5181",
   "metadata": {},
   "outputs": [],
   "source": [
    "grid = createBoard(d)"
   ]
  },
  {
   "cell_type": "code",
   "execution_count": 3,
   "id": "5528fc0a",
   "metadata": {},
   "outputs": [],
   "source": [
    "import matplotlib.pyplot as plt\n",
    "import numpy as np\n",
    "\n",
    "color_map_3 = {\n",
    "    0: 'white',\n",
    "    1: 'black',\n",
    "    2: 'red'\n",
    "}\n",
    "\n",
    "color_map_7 = {\n",
    "    0: 'white',\n",
    "    1: 'black',\n",
    "    2: 'red',\n",
    "    3: 'orange',\n",
    "    4: 'blue',\n",
    "    5: 'purple',\n",
    "    6: 'yellow'\n",
    "}\n",
    "\n",
    "def visualizeGrid(color_map, grid):\n",
    "    fig, ax = plt.subplots()\n",
    "\n",
    "    for i in range(len(grid)):\n",
    "        for j in range(len(grid[i])):\n",
    "            ax.add_patch(plt.Rectangle((j, i), 1, 1, facecolor=color_map[grid[i][j]]))\n",
    "\n",
    "    ax.set_xlim(0, len(grid[0]))\n",
    "    ax.set_ylim(0, len(grid))\n",
    "    ax.set_xticks([])\n",
    "    ax.set_yticks([])\n",
    "    ax.set_aspect('equal')\n",
    "\n",
    "    plt.gca().invert_yaxis() \n",
    "    plt.show()"
   ]
  },
  {
   "cell_type": "code",
   "execution_count": 4,
   "id": "35818753",
   "metadata": {},
   "outputs": [
    {
     "data": {
      "image/png": "[encoded data removed]",
      "text/plain": [
       "<Figure size 640x480 with 1 Axes>"
      ]
     },
     "metadata": {},
     "output_type": "display_data"
    }
   ],
   "source": [
    "visualizeGrid(color_map_3, grid)"
   ]
  },
  {
   "cell_type": "markdown",
   "id": "7ed6fdb8",
   "metadata": {},
   "source": [
    "black = open cells, red = wall"
   ]
  },
  {
   "cell_type": "markdown",
   "id": "67016aef",
   "metadata": {},
   "source": [
    "## Coding the Fire\n"
   ]
  },
  {
   "cell_type": "code",
   "execution_count": 5,
   "id": "c0245dd3",
   "metadata": {},
   "outputs": [],
   "source": [
    "def setFire(grid, pt, q):\n",
    "    if grid[pt[0]][pt[1]] == 3:\n",
    "        return\n",
    "    k = checkNeighbors(grid, pt[0], pt[1], 3)\n",
    "    prob = 1 - (1-q)**k\n",
    "    x = random.random()\n",
    "    if x <= prob:\n",
    "        grid[pt[0]][pt[1]] = 3\n",
    "    return"
   ]
  },
  {
   "cell_type": "code",
   "execution_count": 6,
   "id": "27bb3036",
   "metadata": {},
   "outputs": [],
   "source": [
    "def spreadFire(grid, fireLocs, q, df=None, i=None, timestep=None):\n",
    "    fireLocsNew = []\n",
    "    for curr in fireLocs:\n",
    "        if grid[curr[0]][curr[1]] == 2:\n",
    "            fireLocs.remove(curr)\n",
    "            continue\n",
    "        setFire(grid, curr, q)\n",
    "        if grid[curr[0]][curr[1]] == 3:\n",
    "            fireLocs.remove(curr)\n",
    "            if df is not None and i is not None and timestep is not None:\n",
    "                df.loc[curr][i] = timestep\n",
    "            neighbors = [(curr[0]-1,curr[1]), (curr[0]+1,curr[1]), (curr[0], curr[1]-1), (curr[0], curr[1]+1)]\n",
    "            for elt in neighbors:\n",
    "                if grid[elt[0]][elt[1]] == 1 or grid[elt[0]][elt[1]] == 4:\n",
    "                    fireLocsNew.append(elt)\n",
    "    fireLocs.extend(fireLocsNew)\n",
    "    return fireLocs"
   ]
  },
  {
   "cell_type": "code",
   "execution_count": 7,
   "id": "9abba24e",
   "metadata": {},
   "outputs": [],
   "source": [
    "def reset_grid(grid):\n",
    "    for i in range(len(grid)):  # Iterate through rows\n",
    "            for j in range(len(grid[i])):  # Iterate through columns\n",
    "                if (grid[i][j] in range(3,7)):\n",
    "                    grid[i][j] = 1"
   ]
  },
  {
   "cell_type": "markdown",
   "id": "33ad0482",
   "metadata": {},
   "source": [
    "## Location Initializations"
   ]
  },
  {
   "cell_type": "code",
   "execution_count": 8,
   "id": "696d2684",
   "metadata": {},
   "outputs": [],
   "source": [
    "def location_initialization(grid, botLoc=None, butLoc=None, fireLoc=None):\n",
    "    botLoc = (random.randint(1, d), random.randint(1, d))\n",
    "    while grid[botLoc[0]][botLoc[1]] == 0:\n",
    "        botLoc = (random.randint(1, d), random.randint(1, d))\n",
    "\n",
    "    butLoc = (random.randint(1, d), random.randint(1, d))\n",
    "    while grid[butLoc[0]][butLoc[1]] == 0:\n",
    "        butLoc = (random.randint(1, d), random.randint(1, d))\n",
    "\n",
    "    fireLoc = (random.randint(1, d), random.randint(1, d))\n",
    "    while grid[fireLoc[0]][fireLoc[1]] == 0:\n",
    "        fireLoc = (random.randint(1, d), random.randint(1, d))\n",
    "\n",
    "    notDistinct = (botLoc == butLoc) or (botLoc == fireLoc) or (butLoc == fireLoc)\n",
    "    while notDistinct:\n",
    "        botLoc = (random.randint(1, d), random.randint(1, d))\n",
    "        while grid[botLoc[0]][botLoc[1]] == 0:\n",
    "            botLoc = (random.randint(1, d), random.randint(1, d))\n",
    "        butLoc = (random.randint(1, d), random.randint(1, d))\n",
    "        while grid[butLoc[0]][butLoc[1]] == 0:\n",
    "            butLoc = (random.randint(1, d), random.randint(1, d))\n",
    "        fireLoc = (random.randint(1, d), random.randint(1, d))\n",
    "        while grid[fireLoc[0]][fireLoc[1]] == 0:\n",
    "            fireLoc = (random.randint(1, d), random.randint(1, d))\n",
    "        notDistinct = (botLoc == butLoc) or (botLoc == fireLoc) or (butLoc == fireLoc)\n",
    "    \n",
    "    return botLoc,butLoc,fireLoc"
   ]
  },
  {
   "cell_type": "markdown",
   "id": "00661f2e",
   "metadata": {},
   "source": [
    "note - for every new board we create we need to run createboard AND location_initialization"
   ]
  },
  {
   "cell_type": "code",
   "execution_count": 9,
   "id": "eb09dce8",
   "metadata": {},
   "outputs": [
    {
     "name": "stdout",
     "output_type": "stream",
     "text": [
      "Bot Location: (26, 20)\n",
      "Button Location: (8, 7)\n",
      "Fire Location: (8, 21)\n"
     ]
    }
   ],
   "source": [
    "botLoc,butLoc,fireLoc = location_initialization(grid)\n",
    "print(f\"Bot Location: {botLoc}\")\n",
    "print(f\"Button Location: {butLoc}\")\n",
    "print(f\"Fire Location: {fireLoc}\")"
   ]
  },
  {
   "cell_type": "markdown",
   "id": "4b5b4102",
   "metadata": {},
   "source": [
    "## Shortest Path (Bot 1)"
   ]
  },
  {
   "cell_type": "code",
   "execution_count": 10,
   "id": "0f57ac55",
   "metadata": {},
   "outputs": [],
   "source": [
    "import copy\n",
    "\n",
    "bot1Grid = copy.deepcopy(grid)\n",
    "bot1Grid[fireLoc[0]][fireLoc[1]] = 3\n",
    "\n",
    "def shortestBot1(grid, botLoc, fireLocs, butLoc):\n",
    "    fringe1 = []\n",
    "    fringe1.append(botLoc)\n",
    "\n",
    "    closed_set = {}\n",
    "    prev1 = {}\n",
    "    prev1[botLoc] = None\n",
    "\n",
    "    while len(fringe1) > 0:\n",
    "        curr1 = fringe1.pop(0)\n",
    "        if curr1 == butLoc:\n",
    "            break\n",
    "\n",
    "        if curr1 not in closed_set:\n",
    "            closed_set.update({curr1: 1})\n",
    "            r1, c1 = curr1[0], curr1[1]\n",
    "            neighbors1 = [(r1-1, c1),(r1+1, c1),(r1, c1-1),(r1, c1+1)]\n",
    "            for elt in neighbors1:\n",
    "                if bot1Grid[elt[0]][elt[1]] == 1 and elt not in closed_set:\n",
    "                    fringe1.append(elt)\n",
    "                    prev1[elt] = curr1\n",
    "\n",
    "    path = []\n",
    "    curr = butLoc\n",
    "    try:\n",
    "        path.append(curr)\n",
    "        curr = prev1[curr]\n",
    "    except:\n",
    "        return False\n",
    "    while curr is not None:\n",
    "        path.append(curr)\n",
    "        curr = prev1[curr]\n",
    "    return path[::-1]\n"
   ]
  },
  {
   "cell_type": "markdown",
   "id": "8e60058a",
   "metadata": {},
   "source": [
    "## Game Loop (Bot 1)"
   ]
  },
  {
   "cell_type": "code",
   "execution_count": 11,
   "id": "96719752",
   "metadata": {},
   "outputs": [
    {
     "name": "stdout",
     "output_type": "stream",
     "text": [
      "Bot1 failed in 18 timesteps.\n"
     ]
    }
   ],
   "source": [
    "def gameLoop1(grid, botLoc, fireLoc, butLoc, trackTime, q):\n",
    "    t = 1\n",
    "    fireLocs = []\n",
    "    r,c = fireLoc[0], fireLoc[1]\n",
    "    grid[r][c] = 3\n",
    "    fireLocs.extend(((r-1, c), (r+1, c), (r,c-1), (r,c+1)))\n",
    "    success = True\n",
    "    path = shortestBot1(bot1Grid, botLoc, fireLocs, butLoc)\n",
    "    if not path:\n",
    "        return False\n",
    "    for i in path[1:]:\n",
    "        fireLocs = spreadFire(bot1Grid, fireLocs, q)\n",
    "        if bot1Grid[i[0]][i[1]] == 3:\n",
    "            if trackTime: print(f\"Bot1 failed in {t} timesteps.\")\n",
    "            success = False\n",
    "            break\n",
    "        t = t + 1\n",
    "        bot1Grid[i[0]][i[1]] = 4\n",
    "    l = len(path)\n",
    "    bot1Grid[butLoc[0]][butLoc[1]] = 5\n",
    "    bot1Grid[fireLoc[0]][fireLoc[1]] = 6\n",
    "    return success\n",
    "success_1 = gameLoop1(bot1Grid, botLoc, fireLoc, butLoc, True, 0.5)\n",
    "if success_1: print(\"Success!\")"
   ]
  },
  {
   "cell_type": "code",
   "execution_count": 12,
   "id": "ae0c35bf",
   "metadata": {},
   "outputs": [
    {
     "data": {
      "image/png": "[encoded data removed]",
      "text/plain": [
       "<Figure size 640x480 with 1 Axes>"
      ]
     },
     "metadata": {},
     "output_type": "display_data"
    }
   ],
   "source": [
    "visualizeGrid(color_map_7, bot1Grid)"
   ]
  },
  {
   "cell_type": "markdown",
   "id": "418a1f9f",
   "metadata": {},
   "source": [
    "The yellow dot represents the source of the fire. The pink dot represents the button."
   ]
  },
  {
   "cell_type": "code",
   "execution_count": 13,
   "id": "17c9cd55",
   "metadata": {},
   "outputs": [],
   "source": [
    "reset_grid(bot1Grid)"
   ]
  },
  {
   "cell_type": "markdown",
   "id": "f393cd44",
   "metadata": {},
   "source": [
    "## Shortest Path (Bot 2)"
   ]
  },
  {
   "cell_type": "code",
   "execution_count": 14,
   "id": "4d6ecf86",
   "metadata": {},
   "outputs": [],
   "source": [
    "def shortestBot2(grid, botLoc, fireLocs, butLoc, i, path):\n",
    "    currentFires = set([])\n",
    "    currentFires.add(fireLoc)\n",
    "    for row in range(len(grid)):\n",
    "        for col in range(len(grid[row])):\n",
    "            if grid[row][col] == 3:\n",
    "                currentFires.add((row, col))\n",
    "    fringe1 = []\n",
    "    fringe1.append(botLoc)\n",
    "\n",
    "    closed_set = {}\n",
    "    prev1 = {}\n",
    "    prev1[botLoc] = None\n",
    "    success = False\n",
    "\n",
    "    while len(fringe1) > 0:\n",
    "        curr1 = fringe1.pop(0)\n",
    "        if curr1 == butLoc:\n",
    "            success = True\n",
    "            break\n",
    "\n",
    "        if curr1 not in closed_set:\n",
    "            closed_set.update({curr1: 1})\n",
    "            r1, c1 = curr1[0], curr1[1]\n",
    "            neighbors1 = [(r1-1, c1),(r1+1, c1),(r1, c1-1),(r1, c1+1)]\n",
    "            for elt in neighbors1:\n",
    "                if (grid[elt[0]][elt[1]] == 1 or grid[elt[0]][elt[1]] == 4) and elt not in closed_set and elt not in currentFires:\n",
    "                    fringe1.append(elt)\n",
    "                    prev1[elt] = curr1\n",
    "    if not success: \n",
    "        return path\n",
    "\n",
    "    path2 = []\n",
    "    curr = butLoc\n",
    "    while curr is not None:\n",
    "        path2.append(curr)\n",
    "        curr = prev1[curr]\n",
    "    path2 = path2[::-1]\n",
    "    if path2 != path[i:]:\n",
    "        path[i:] = path2\n",
    "\n",
    "    # Return the path from start to finish\n",
    "    return path  "
   ]
  },
  {
   "cell_type": "markdown",
   "id": "cbd1c571",
   "metadata": {},
   "source": [
    "## Game Loop (Bot 2)"
   ]
  },
  {
   "cell_type": "code",
   "execution_count": 15,
   "id": "5e925889",
   "metadata": {},
   "outputs": [
    {
     "name": "stdout",
     "output_type": "stream",
     "text": [
      "Bot2 failed in 46 timesteps.\n"
     ]
    }
   ],
   "source": [
    "bot2Grid = copy.deepcopy(grid)\n",
    "bot2Grid[fireLoc[0]][fireLoc[1]] = 3\n",
    "\n",
    "def gameLoop2(grid, botLoc, fireLoc, butLoc, trackTime, q):\n",
    "    t = 1\n",
    "    fireLocs = []\n",
    "    r,c = fireLoc[0], fireLoc[1]\n",
    "    grid[r][c] = 3\n",
    "    fireLocs.extend(((r-1, c), (r+1, c), (r,c-1), (r,c+1)))\n",
    "    success = True\n",
    "    pathBot2 = []\n",
    "    pathBot2.append(botLoc)\n",
    "    pathBot2 = shortestBot2(bot2Grid, botLoc, fireLocs, butLoc, 0, pathBot2)\n",
    "    i = 1\n",
    "    while i < len(pathBot2):\n",
    "        fireLocs = spreadFire(bot2Grid, fireLocs, q)\n",
    "        if bot2Grid[pathBot2[i][0]][pathBot2[i][1]] == 3:\n",
    "            if trackTime: \n",
    "                print(f\"Bot2 failed in {t} timesteps.\")\n",
    "            success= False\n",
    "            break\n",
    "        bot2Grid[pathBot2[i][0]][pathBot2[i][1]] = 4\n",
    "        pathBot2 = shortestBot2(bot2Grid, pathBot2[i], fireLocs, butLoc, i, pathBot2)\n",
    "        t = t + 1\n",
    "        i = i + 1\n",
    "    bot2Grid[butLoc[0]][butLoc[1]] = 5\n",
    "    bot2Grid[fireLoc[0]][fireLoc[1]] = 6\n",
    "    return success\n",
    "success_2 = gameLoop2(bot2Grid, botLoc, fireLoc, butLoc, True, 0.5)\n",
    "if success_2: print(f\"Success!\")"
   ]
  },
  {
   "cell_type": "code",
   "execution_count": 16,
   "id": "56912246",
   "metadata": {},
   "outputs": [
    {
     "data": {
      "image/png": "[encoded data removed]",
      "text/plain": [
       "<Figure size 640x480 with 1 Axes>"
      ]
     },
     "metadata": {},
     "output_type": "display_data"
    }
   ],
   "source": [
    "visualizeGrid(color_map_7, bot2Grid)"
   ]
  },
  {
   "cell_type": "code",
   "execution_count": 17,
   "id": "d7e044ce",
   "metadata": {},
   "outputs": [],
   "source": [
    "reset_grid(bot2Grid)"
   ]
  },
  {
   "cell_type": "markdown",
   "id": "ad2e1264",
   "metadata": {},
   "source": [
    "## Shortest Path (Bot 3)"
   ]
  },
  {
   "cell_type": "code",
   "execution_count": 18,
   "id": "f6e3aad2",
   "metadata": {},
   "outputs": [],
   "source": [
    "def shortestBot3(grid, botLoc, fireLocs, butLoc, i, path):\n",
    "    fringe1 = []\n",
    "    fringe1.append(botLoc)\n",
    "\n",
    "    closed_set = {}\n",
    "    prev1 = {}\n",
    "    prev1[botLoc] = None\n",
    "    success = False\n",
    "\n",
    "    while len(fringe1) > 0:\n",
    "        curr1 = fringe1.pop(0)\n",
    "        if curr1 == butLoc:\n",
    "            success = True\n",
    "            break\n",
    "\n",
    "        if curr1 not in closed_set:\n",
    "            closed_set.update({curr1: 1})\n",
    "            r1, c1 = curr1[0], curr1[1]\n",
    "            neighbors1 = [(r1-1, c1),(r1+1, c1),(r1, c1-1),(r1, c1+1)]\n",
    "            for elt in neighbors1:\n",
    "                if (grid[elt[0]][elt[1]] == 1 or grid[elt[0]][elt[1]] == 4) and elt not in closed_set and (elt not in fireLocs or elt == butLoc):\n",
    "                    fringe1.append(elt)\n",
    "                    prev1[elt] = curr1\n",
    "    if not success: \n",
    "        return path\n",
    "\n",
    "    path2 = []\n",
    "    curr = butLoc\n",
    "    while curr is not None:\n",
    "        path2.append(curr)\n",
    "        curr = prev1[curr]\n",
    "    path2 = path2[::-1]\n",
    "    if path2 != path[i:]:\n",
    "        path[i:] = path2\n",
    "\n",
    "    # Return the path from start to finish\n",
    "    return path  "
   ]
  },
  {
   "cell_type": "markdown",
   "id": "14918ab8",
   "metadata": {},
   "source": [
    "## Game Loop (Bot 3)"
   ]
  },
  {
   "cell_type": "code",
   "execution_count": 19,
   "id": "9dffe8b9",
   "metadata": {},
   "outputs": [
    {
     "name": "stdout",
     "output_type": "stream",
     "text": [
      "0.7\n"
     ]
    }
   ],
   "source": [
    "bot3Grid = copy.deepcopy(grid)\n",
    "bot3Grid[fireLoc[0]][fireLoc[1]] = 3\n",
    "\n",
    "def gameLoop3(grid, botLoc, fireLoc, butLoc, trackTime, q):\n",
    "    t = 1\n",
    "    fireLocs = []\n",
    "    r,c = fireLoc[0], fireLoc[1]\n",
    "    grid[r][c] = 3\n",
    "    fireLocs.extend(((r-1, c), (r+1, c), (r,c-1), (r,c+1)))\n",
    "    success = True\n",
    "    pathBot3 = []\n",
    "    pathBot3.append(botLoc)\n",
    "    pathBot3 = shortestBot3(bot3Grid, botLoc, fireLocs, butLoc, 0, pathBot3)\n",
    "    i = 1\n",
    "    while i < len(pathBot3):\n",
    "        fireLocs = spreadFire(bot3Grid, fireLocs, q)\n",
    "        if bot3Grid[pathBot3[i][0]][pathBot3[i][1]] == 3:\n",
    "            if trackTime:\n",
    "                print(f\"Bot3 failed in {t} timesteps.\")\n",
    "            success= False\n",
    "            break\n",
    "        bot3Grid[pathBot3[i][0]][pathBot3[i][1]] = 4\n",
    "        pathBot3 = shortestBot3(bot3Grid, pathBot3[i], fireLocs, butLoc, i, pathBot3)\n",
    "        t = t + 1\n",
    "        i = i + 1\n",
    "    bot3Grid[butLoc[0]][butLoc[1]] = 5\n",
    "    bot3Grid[fireLoc[0]][fireLoc[1]] = 6\n",
    "    return success\n",
    "\n",
    "count = 0\n",
    "for i in range(10):\n",
    "    botLoc,butLoc,fireLoc = location_initialization(grid)\n",
    "    reset_grid(bot3Grid)\n",
    "    success = gameLoop3(bot3Grid, botLoc, fireLoc, butLoc, False, 1)\n",
    "    if success:\n",
    "        count += 1\n",
    "print(count/10)"
   ]
  },
  {
   "cell_type": "code",
   "execution_count": 20,
   "id": "76aa23f2",
   "metadata": {},
   "outputs": [
    {
     "data": {
      "image/png": "[encoded data removed]",
      "text/plain": [
       "<Figure size 640x480 with 1 Axes>"
      ]
     },
     "metadata": {},
     "output_type": "display_data"
    }
   ],
   "source": [
    "visualizeGrid(color_map_7, bot3Grid)"
   ]
  },
  {
   "cell_type": "code",
   "execution_count": 21,
   "id": "d767e944",
   "metadata": {},
   "outputs": [],
   "source": [
    "reset_grid(bot3Grid)"
   ]
  },
  {
   "cell_type": "markdown",
   "id": "d0a5140b",
   "metadata": {},
   "source": [
    "## Bot 4 Data Collection"
   ]
  },
  {
   "cell_type": "code",
   "execution_count": 22,
   "id": "9bb053ff",
   "metadata": {},
   "outputs": [],
   "source": [
    "def simulateFire(grid, fireLoc, df, numSims, q):\n",
    "    r,c = fireLoc[0], fireLoc[1]\n",
    "    for i in range(numSims):\n",
    "        grid[r][c] = 3\n",
    "        fireLocs = []\n",
    "        fireLocs.extend(((r-1, c), (r+1, c), (r,c-1), (r,c+1)))\n",
    "        t = 0\n",
    "        while len(fireLocs) > 0:\n",
    "            fireLocs = spreadFire(grid, fireLocs, q, df, i, t)\n",
    "            t = t + 1\n",
    "        reset_grid(grid)\n",
    "    return df"
   ]
  },
  {
   "cell_type": "code",
   "execution_count": 23,
   "id": "77b6109f",
   "metadata": {},
   "outputs": [],
   "source": [
    "def p(pt, df, t):\n",
    "    return ((df.loc[pt] <= t).sum() / len(df.columns))"
   ]
  },
  {
   "cell_type": "code",
   "execution_count": 24,
   "id": "d764809c",
   "metadata": {},
   "outputs": [],
   "source": [
    "def d_manhattan(pt, butLoc):\n",
    "    return abs(butLoc[0]-pt[0]) + abs(butLoc[1]-pt[1])"
   ]
  },
  {
   "cell_type": "code",
   "execution_count": 25,
   "id": "69b82531",
   "metadata": {},
   "outputs": [],
   "source": [
    "def C(pt, df, t, butLoc):\n",
    "    return 100*p(pt, df, t) + 0.1*d_manhattan(pt, butLoc)"
   ]
  },
  {
   "cell_type": "code",
   "execution_count": 26,
   "id": "204848a4",
   "metadata": {},
   "outputs": [
    {
     "name": "stdout",
     "output_type": "stream",
     "text": [
      "         Sim_1  Sim_2  Sim_3  Sim_4  Sim_5  Sim_6  Sim_7  Sim_8  Sim_9  \\\n",
      "Row Col                                                                  \n",
      "1   1      113    124    112    114    123    128    106    126    116   \n",
      "    2      112    128    109    110    120    128    108    124    115   \n",
      "    3      107    123    114    107    119    128    109    127    121   \n",
      "    4        0      0      0      0      0      0      0      0      0   \n",
      "    5      112    122    106    104    117    126    102    118    112   \n",
      "\n",
      "         Sim_10  ...  Sim_31  Sim_32  Sim_33  Sim_34  Sim_35  Sim_36  Sim_37  \\\n",
      "Row Col          ...                                                           \n",
      "1   1       111  ...     127     109     132     127     117     121     118   \n",
      "    2       111  ...     130     104     128     121     112     120     118   \n",
      "    3       108  ...     126     101     127     121     113     121     117   \n",
      "    4         0  ...       0       0       0       0       0       0       0   \n",
      "    5       102  ...     119      99     124     120     117     116     116   \n",
      "\n",
      "         Sim_38  Sim_39  Sim_40  \n",
      "Row Col                          \n",
      "1   1       126      98     109  \n",
      "    2       124      96     113  \n",
      "    3       120      95     105  \n",
      "    4         0       0       0  \n",
      "    5       124      92     102  \n",
      "\n",
      "[5 rows x 40 columns]\n"
     ]
    }
   ],
   "source": [
    "import itertools\n",
    "import pandas as pd\n",
    "\n",
    "bot4Grid = copy.deepcopy(grid)\n",
    "def simulateBot4(grid, fireLoc, q):\n",
    "    numSims = 40\n",
    "    cells = list(itertools.product(range(1, 41), repeat=2))\n",
    "    df = pd.DataFrame(0, index=pd.MultiIndex.from_tuples(cells, names=[\"Row\", \"Col\"]),\n",
    "                      columns=[f'Sim_{i+1}' for i in range(numSims)])\n",
    "    df = simulateFire(grid, fireLoc, df, numSims, q)\n",
    "    return df\n",
    "\n",
    "df = simulateBot4(bot4Grid, fireLoc, 0.5)\n",
    "print(df.head())"
   ]
  },
  {
   "cell_type": "code",
   "execution_count": 27,
   "id": "c441b4d5",
   "metadata": {},
   "outputs": [
    {
     "name": "stdout",
     "output_type": "stream",
     "text": [
      "Estimated cost of going to (15, 25) by 150 timesteps: 102.6\n"
     ]
    }
   ],
   "source": [
    "# Test it out\n",
    "sampleLocation = (15,25)\n",
    "print(f\"Estimated cost of going to {sampleLocation} by 150 timesteps: {C(sampleLocation, df, 150, butLoc)}\")"
   ]
  },
  {
   "cell_type": "markdown",
   "id": "53335bad",
   "metadata": {},
   "source": [
    "## Shortest Path (Bot 4)"
   ]
  },
  {
   "cell_type": "code",
   "execution_count": 28,
   "id": "444025b1",
   "metadata": {},
   "outputs": [],
   "source": [
    "from queue import PriorityQueue as pq\n",
    "\n",
    "def shortestBot4(grid, botLoc, butLoc, df):\n",
    "    fringe4 = pq()\n",
    "    fringe4.put((0.0, botLoc))\n",
    "\n",
    "    dist = {}\n",
    "    dist[botLoc] = 0\n",
    "\n",
    "    prev4 = {}\n",
    "    prev4[botLoc] = None\n",
    "    \n",
    "    time = {}\n",
    "    time[botLoc] = 0\n",
    "\n",
    "    while fringe4.qsize() > 0:\n",
    "        curr = fringe4.get()\n",
    "        curr1 = curr[1]\n",
    "        priority = curr[0]\n",
    "        if curr1 == butLoc:\n",
    "            break\n",
    "        t = time[curr1]\n",
    "        r1, c1 = curr1[0], curr1[1]\n",
    "        neighbors1 = [(r1-1, c1),(r1+1, c1),(r1, c1-1),(r1, c1+1)]\n",
    "        for elt in neighbors1:\n",
    "            if (elt[0] < 1 or elt[0] > 40) or (elt[1] < 1 or elt[1] > 40):\n",
    "                continue\n",
    "            elt_cost = C(elt, df, t+1, butLoc)\n",
    "            if (bot4Grid[elt[0]][elt[1]] == 1 and (elt == butLoc or elt not in dist or elt_cost < dist[elt])):\n",
    "                fringe4.put((elt_cost, elt))\n",
    "                dist[elt] = elt_cost\n",
    "                prev4[elt] = curr1\n",
    "                time[elt] = t + 1\n",
    "    path4 = []\n",
    "    curr = butLoc\n",
    "    while curr is not None:\n",
    "        path4.append(curr)\n",
    "        curr = prev4[curr]\n",
    "\n",
    "    # Return the path from start to finish\n",
    "    return path4[::-1]"
   ]
  },
  {
   "cell_type": "markdown",
   "id": "84ad9b1d",
   "metadata": {},
   "source": [
    "## Game Loop (Bot 4)"
   ]
  },
  {
   "cell_type": "code",
   "execution_count": 29,
   "id": "64eb7481",
   "metadata": {},
   "outputs": [
    {
     "name": "stdout",
     "output_type": "stream",
     "text": [
      "Success!\n"
     ]
    }
   ],
   "source": [
    "def gameLoop4(grid, botLoc, fireLoc, butLoc, trackTime, q):\n",
    "    df = simulateBot4(grid, fireLoc, q=q)\n",
    "    t = 1\n",
    "    fireLocs = []\n",
    "    r,c = fireLoc[0], fireLoc[1]\n",
    "    fireLocs.extend(((r-1, c), (r+1, c), (r,c-1), (r,c+1)))\n",
    "    success = True\n",
    "    path4 = []\n",
    "    path4 = shortestBot4(bot4Grid, botLoc, butLoc, df)\n",
    "    grid[r][c] = 3\n",
    "    for i in path4[1:]:\n",
    "        if i == path4[-1]:\n",
    "            break\n",
    "        fireLocs = spreadFire(bot4Grid, fireLocs, q=q)\n",
    "        if bot4Grid[i[0]][i[1]] == 3:\n",
    "            if trackTime: \n",
    "                print(f\"Bot4 failed in {t} timesteps.\")\n",
    "            success= False\n",
    "            break\n",
    "        t = t + 1\n",
    "        bot4Grid[i[0]][i[1]] = 4\n",
    "    bot4Grid[butLoc[0]][butLoc[1]] = 5\n",
    "    bot4Grid[fireLoc[0]][fireLoc[1]] = 6\n",
    "    return success\n",
    "\n",
    "\n",
    "success_4 = gameLoop4(bot4Grid, botLoc, fireLoc, butLoc, True, 0.5)\n",
    "if success_4: print(\"Success!\")"
   ]
  },
  {
   "cell_type": "code",
   "execution_count": 30,
   "id": "69a15ac8",
   "metadata": {},
   "outputs": [
    {
     "data": {
      "image/png": "[encoded data removed]",
      "text/plain": [
       "<Figure size 640x480 with 1 Axes>"
      ]
     },
     "metadata": {},
     "output_type": "display_data"
    }
   ],
   "source": [
    "visualizeGrid(color_map_7, bot4Grid)"
   ]
  },
  {
   "cell_type": "code",
   "execution_count": 31,
   "id": "c233b467",
   "metadata": {},
   "outputs": [],
   "source": [
    "reset_grid(bot4Grid)"
   ]
  },
  {
   "cell_type": "markdown",
   "id": "b86a350f",
   "metadata": {},
   "source": [
    "## Data Analysis"
   ]
  },
  {
   "cell_type": "code",
   "execution_count": 32,
   "id": "77cba183",
   "metadata": {},
   "outputs": [],
   "source": [
    "def does_path_exist(grid, fireLoc, butLoc, q, botLoc):\n",
    "    r,c = fireLoc[0], fireLoc[1]\n",
    "    grid[fireLoc[0]][fireLoc[1]] = 3\n",
    "    fireLocs = []\n",
    "    fireLocs.extend(((r-1, c), (r+1, c), (r,c-1), (r,c+1)))\n",
    "    while grid[butLoc[0]][butLoc[1]] != 3:\n",
    "        fireLocs = spreadFire(grid, fireLocs, q)\n",
    "    \n",
    "    fringe = []\n",
    "    fringe.append(botLoc)\n",
    "    closed_set = {}\n",
    "    \n",
    "    grid[butLoc[0]][butLoc[1]] = 1\n",
    "    \n",
    "    while len(fringe) > 0:\n",
    "        curr1 = fringe.pop(0)\n",
    "        if curr1 == butLoc:\n",
    "            reset_grid(grid)\n",
    "            return True\n",
    "            \n",
    "        if curr1 not in closed_set:\n",
    "            closed_set.update({curr1: 1})\n",
    "            r1, c1 = curr1[0], curr1[1]\n",
    "            neighbors1 = [(r1-1, c1),(r1+1, c1),(r1, c1-1),(r1, c1+1)]\n",
    "            for elt in neighbors1:\n",
    "                if (bot1Grid[elt[0]][elt[1]] == 1 and elt not in closed_set) or elt == butLoc:\n",
    "                    fringe.append(elt)\n",
    "                    \n",
    "    reset_grid(grid)\n",
    "    return False"
   ]
  },
  {
   "cell_type": "code",
   "execution_count": 33,
   "id": "0d647e12",
   "metadata": {},
   "outputs": [
    {
     "name": "stdout",
     "output_type": "stream",
     "text": [
      "Success rates, button starts closer to fire: \n",
      "Bot1    0.746667\n",
      "Bot2    0.906667\n",
      "Bot3    0.893333\n",
      "Bot4    0.866667\n",
      "Name: 0.1, dtype: float64\n",
      "Success rates, button starts closer to bot: \n",
      "Bot1    1\n",
      "Bot2    1\n",
      "Bot3    1\n",
      "Bot4    1\n",
      "Name: 0.1, dtype: int64\n",
      "Success rate of bot 4 given that all other bots failed, q = 0.1: \n",
      "0.0\n",
      "\n",
      "Success rates, button starts closer to fire: \n",
      "Bot1    0.600000\n",
      "Bot2    0.706667\n",
      "Bot3    0.733333\n",
      "Bot4    0.733333\n",
      "Name: 0.3, dtype: float64\n",
      "Success rates, button starts closer to bot: \n",
      "Bot1    1\n",
      "Bot2    1\n",
      "Bot3    1\n",
      "Bot4    1\n",
      "Name: 0.3, dtype: int64\n",
      "Success rate of bot 4 given that all other bots failed, q = 0.3: \n",
      "0.17647058823529413\n",
      "\n",
      "Success rates, button starts closer to fire: \n",
      "Bot1    0.520000\n",
      "Bot2    0.573333\n",
      "Bot3    0.546667\n",
      "Bot4    0.573333\n",
      "Name: 0.5, dtype: float64\n",
      "Success rates, button starts closer to bot: \n",
      "Bot1    0.986667\n",
      "Bot2    1.000000\n",
      "Bot3    0.986667\n",
      "Bot4    1.000000\n",
      "Name: 0.5, dtype: float64\n",
      "Success rate of bot 4 given that all other bots failed, q = 0.5: \n",
      "0.07407407407407407\n",
      "\n",
      "Success rates, button starts closer to fire: \n",
      "Bot1    0.413333\n",
      "Bot2    0.480000\n",
      "Bot3    0.453333\n",
      "Bot4    0.466667\n",
      "Name: 0.7, dtype: float64\n",
      "Success rates, button starts closer to bot: \n",
      "Bot1    0.973333\n",
      "Bot2    0.973333\n",
      "Bot3    0.986667\n",
      "Bot4    0.986667\n",
      "Name: 0.7, dtype: float64\n",
      "Success rate of bot 4 given that all other bots failed, q = 0.7: \n",
      "0.05405405405405406\n",
      "\n",
      "Success rates, button starts closer to fire: \n",
      "Bot1    0.480000\n",
      "Bot2    0.506667\n",
      "Bot3    0.493333\n",
      "Bot4    0.480000\n",
      "Name: 0.9, dtype: float64\n",
      "Success rates, button starts closer to bot: \n",
      "Bot1    1.000000\n",
      "Bot2    0.986667\n",
      "Bot3    1.000000\n",
      "Bot4    0.986667\n",
      "Name: 0.9, dtype: float64\n",
      "Success rate of bot 4 given that all other bots failed, q = 0.9: \n",
      "0.05405405405405406\n",
      "\n"
     ]
    }
   ],
   "source": [
    "q_list = [0.1, 0.3, 0.5, 0.7, 0.9]\n",
    "success_df_1 = pd.DataFrame(0, index=q_list, columns=['Bot1', 'Bot2', 'Bot3', 'Bot4'])\n",
    "success_df_2 = pd.DataFrame(0, index=q_list, columns=['Bot1', 'Bot2', 'Bot3', 'Bot4'])\n",
    "success_rates_bot4 = {}\n",
    "numRounds = 75\n",
    "only_bot_4 = []\n",
    "#we would envelppe this in a for g in grids_for_testing and save the data both for the aggregate bot statistics and for per board basis if we think there might be anything cool, might take too long though\n",
    "for q in q_list:\n",
    "    success_rates_1 = [0.0,0.0,0.0,0.0]\n",
    "    success_rates_2 = [0.0,0.0,0.0,0.0]\n",
    "    counts_1 = [0,0,0,0]\n",
    "    counts_2 = [0,0,0,0]\n",
    "    counts_fail_bots = 0\n",
    "    counts_bot4 = 0\n",
    "    num_1 = 0\n",
    "    for i in range(numRounds):\n",
    "        \n",
    "        grid_to_test = createBoard(d)\n",
    "        botLoc,butLoc,fireLoc = location_initialization(grid_to_test)\n",
    "        path_exists = does_path_exist(grid_to_test, fireLoc, butLoc, q, botLoc)\n",
    "        while not path_exists:\n",
    "            botLoc,butLoc,fireLoc = location_initialization(grid_to_test)\n",
    "            path_exists = does_path_exist(grid_to_test, fireLoc, butLoc, q, botLoc)\n",
    "        \n",
    "        closer_to_fire = d_manhattan(botLoc, butLoc) >= d_manhattan(fireLoc, butLoc)\n",
    "    \n",
    "        bot1Grid = copy.deepcopy(grid_to_test)\n",
    "        bot2Grid = copy.deepcopy(grid_to_test)\n",
    "        bot3Grid = copy.deepcopy(grid_to_test)\n",
    "        bot4Grid = copy.deepcopy(grid_to_test)\n",
    "        \n",
    "        bot1_success_1 = gameLoop1(bot1Grid, botLoc, fireLoc, butLoc, False, q)\n",
    "        bot1Grid = copy.deepcopy(grid_to_test)\n",
    "        bot1_success_2 = gameLoop1(bot1Grid, fireLoc, botLoc, butLoc, False, q)\n",
    "        bot2_success_1 = gameLoop2(bot2Grid, botLoc, fireLoc, butLoc, False, q)\n",
    "        bot2Grid = copy.deepcopy(grid_to_test)\n",
    "        bot2_success_2 = gameLoop2(bot2Grid, fireLoc, botLoc, butLoc, False, q)\n",
    "        bot3_success_1 = gameLoop3(bot3Grid, botLoc, fireLoc, butLoc, False, q)\n",
    "        bot3Grid = copy.deepcopy(grid_to_test)\n",
    "        bot3_success_2 = gameLoop3(bot3Grid, fireLoc, botLoc, butLoc, False, q)\n",
    "        bot4_success_1 = gameLoop4(bot4Grid, botLoc, fireLoc, butLoc, False, q)\n",
    "        reset_grid(bot4Grid)\n",
    "        bot4_success_2 = gameLoop4(bot4Grid, fireLoc, botLoc, butLoc, False, q)\n",
    "            \n",
    "        # Run on a board configuration twice per round, switching fire and bot positions to ensure even spread of fire closer to button vs bot closer to button\n",
    "        if bot1_success_1:\n",
    "            if closer_to_fire:\n",
    "                counts_1[0] += 1 \n",
    "            else: counts_2[0] += 1\n",
    "        if bot1_success_2:\n",
    "            if closer_to_fire:\n",
    "                counts_2[0] += 1 \n",
    "            else: counts_1[0] += 1\n",
    "\n",
    "        if bot2_success_1:\n",
    "            if closer_to_fire:\n",
    "                counts_1[1] += 1 \n",
    "            else: counts_2[1] += 1\n",
    "        if bot2_success_2:\n",
    "            if closer_to_fire:\n",
    "                counts_2[1] += 1 \n",
    "            else: counts_1[1] += 1\n",
    "\n",
    "        if bot3_success_1:\n",
    "            if closer_to_fire:\n",
    "                counts_1[2] += 1 \n",
    "            else: counts_2[2] += 1\n",
    "        if bot3_success_2:\n",
    "            if closer_to_fire:\n",
    "                counts_2[2] += 1 \n",
    "            else: counts_1[2] += 1\n",
    "\n",
    "        if bot4_success_1:\n",
    "            if closer_to_fire:\n",
    "                counts_1[3] += 1 \n",
    "            else: counts_2[3] += 1\n",
    "        if bot4_success_2:\n",
    "            if closer_to_fire:\n",
    "                counts_2[3] += 1 \n",
    "            else: counts_1[3] += 1\n",
    "\n",
    "        if not (bot1_success_1 or bot2_success_1 or bot3_success_1):\n",
    "            counts_fail_bots += 1\n",
    "            if bot4_success_1:\n",
    "                counts_bot4 += 1\n",
    "                only_bot_4.append(bot4Grid)\n",
    "        if not (bot1_success_2 or bot2_success_2 or bot3_success_2):\n",
    "            counts_fail_bots += 1\n",
    "            if bot4_success_2:\n",
    "                counts_bot4 += 1\n",
    "                only_bot_4.append(bot4Grid)\n",
    "                \n",
    "    for bot in range(len(counts_1)):\n",
    "        success_rates_1[bot] = counts_1[bot]/(numRounds)\n",
    "        success_rates_2[bot] = counts_2[bot]/(numRounds)\n",
    "    success_df_1.loc[q] = success_rates_1\n",
    "    success_df_2.loc[q] = success_rates_2\n",
    "    if counts_fail_bots == 0:\n",
    "        success_rates_bot4[q] = 0.0\n",
    "    else: success_rates_bot4[q] = counts_bot4/counts_fail_bots\n",
    "    \n",
    "    print(f\"Success rates, button starts closer to fire: \\n{success_df_1.loc[q]}\")\n",
    "    print(f\"Success rates, button starts closer to bot: \\n{success_df_2.loc[q]}\")\n",
    "    print(f\"Success rate of bot 4 given that all other bots failed, q = {q}: \\n{success_rates_bot4[q]}\")\n",
    "    print()\n",
    "# success_df_1.to_csv(file_path)\n",
    "# success_df_2.to_csv(file_path.replace(\"simulations_1.csv\", \"simulations_2.csv\"))\n",
    "success_rates_bot4_df = pd.DataFrame(list(success_rates_bot4.items()), columns=['q', 'SuccessRate_Bot4'])"
   ]
  },
  {
   "cell_type": "code",
   "execution_count": 34,
   "id": "11c2221d",
   "metadata": {},
   "outputs": [
    {
     "data": {
      "image/png": "[encoded data removed]",
      "text/plain": [
       "<Figure size 640x480 with 1 Axes>"
      ]
     },
     "metadata": {},
     "output_type": "display_data"
    }
   ],
   "source": [
    "# Plotting for each bot, Button closer to Fire\n",
    "plt.figure()\n",
    "\n",
    "# Plot each bot's success rate on the same plot, with different markers and colors\n",
    "for bot in ['Bot1', 'Bot2', 'Bot3', 'Bot4']:\n",
    "    plt.plot(q_list, success_df_1[bot], marker='o', label=bot)\n",
    "\n",
    "# Add labels and title\n",
    "plt.title('Success Rate for All Bots, Button closer to Fire')\n",
    "plt.xlabel('q (flammability)')\n",
    "plt.ylabel('Success Rate')\n",
    "\n",
    "# Set the y-axis limits\n",
    "plt.ylim(0, 1)\n",
    "\n",
    "# Show the grid for clarity\n",
    "plt.grid(True)\n",
    "\n",
    "# Add a legend to differentiate the bots\n",
    "plt.legend()\n",
    "\n",
    "# Show the plot\n",
    "plt.show()"
   ]
  },
  {
   "cell_type": "code",
   "execution_count": 39,
   "id": "cdea8c8a",
   "metadata": {},
   "outputs": [
    {
     "data": {
      "image/png": "[encoded data removed]",
      "text/plain": [
       "<Figure size 640x480 with 1 Axes>"
      ]
     },
     "metadata": {},
     "output_type": "display_data"
    }
   ],
   "source": [
    "# Plotting for each bot, button closer to bot\n",
    "plt.figure()\n",
    "\n",
    "# Plot each bot's success rate on the same plot, with different markers and colors\n",
    "for bot in ['Bot1', 'Bot2', 'Bot3', 'Bot4']:\n",
    "    plt.plot(q_list, success_df_2[bot], marker='o', label=bot)\n",
    "\n",
    "# Add labels and title\n",
    "plt.title('Success Rate for All Bots, Button closer to Bot')\n",
    "plt.xlabel('q (flammability)')\n",
    "plt.ylabel('Success Rate')\n",
    "\n",
    "# Set the y-axis limits\n",
    "plt.ylim(0, 1)\n",
    "\n",
    "# Show the grid for clarity\n",
    "plt.grid(True)\n",
    "\n",
    "# Add a legend to differentiate the bots\n",
    "plt.legend()\n",
    "\n",
    "# Show the plot\n",
    "plt.show()"
   ]
  },
  {
   "cell_type": "code",
   "execution_count": 36,
   "id": "effe783c",
   "metadata": {},
   "outputs": [
    {
     "data": {
      "image/png": "[encoded data removed]",
      "text/plain": [
       "<Figure size 640x480 with 1 Axes>"
      ]
     },
     "metadata": {},
     "output_type": "display_data"
    }
   ],
   "source": [
    "# Plotting for bot 4 success rate, all other bots failed\n",
    "plt.figure()  # Create a new figure for each bot\n",
    "success_rates = [success_rates_bot4[q] for q in q_list]\n",
    "plt.plot(q_list, success_rates, marker='o')\n",
    "\n",
    "# Add labels and title\n",
    "plt.title(f'Success Rates for Bot 4, All Other Bots Fail')\n",
    "plt.xlabel('q (flammability)')\n",
    "plt.ylabel('Success Rate')\n",
    "\n",
    "plt.ylim(0,1)\n",
    "\n",
    "# Show the grid for clarity\n",
    "plt.grid(True)\n",
    "\n",
    "# Show the plot\n",
    "plt.show()"
   ]
  },
  {
   "cell_type": "markdown",
   "id": "438de927",
   "metadata": {},
   "source": [
    "## Bot 4 Logic\n",
    "The expression that represents the probability of a given cell being set on fire is:\n",
    "$$\n",
    "1-(1-q)^K\n",
    "$$\n",
    "where\n",
    "$q = \\text{ship flammability,}$\n",
    "$K = \\text{number of on-fire neighbors.}$\n",
    "\n",
    "Our goal for Bot 4 is to forecast which cells we think are most likely to be on fire by the time the bot reaches them. This way, the bot can choose a path that avoids the highest-risk cells as efficiently as possible.\n",
    "\n",
    "Our approach will be an implementation of the Uniform-Cost Search Algorithm in which our cost function will take in a given cell's probability of being set on fire several steps in advance. There are a few ways to perform this:\n",
    "1. Markov Chain Monte Carlo Method: Before starting the algorithm, simulate the fire spreading throughout the grid $n$ times. Create a dataframe that records each open cell and which timestep $t_i$ for $i=1,...,n$ it was set on fire, with cells as rows and simulations as columns. We will be able to estimate the likelihood of a given cell being on fire by a given timestep by taking the rate of being on fire out of all simulations (shown below). This will give an estimate for the true distribution of probabilities for each cell. Then, when running UCS, when considering a cell for exploration, we take into account its calculated probability.\n",
    "2. For each iteration of UCS, given a cell being considered, mathematically calculate its probability that it will be set on fire by a certain timestep. This is possible but would be more expensive than simulation.\n",
    "\n",
    "We will choose option 1 with cost function $$C(node)=\\alpha * p(\\text{node on fire}|t)+\\beta * d$$ \n",
    "where \n",
    "$$\\alpha = \\text{weight for } p,$$\n",
    "$$p(\\text{node on fire}|t)=\\frac{1}{n}\\sum_{i=1}^{n} 1 (t_i\\leq t),$$\n",
    "$$\\beta = \\text{weight for } d,$$\n",
    "$$d=\\text{Manhattan distance from node to button.}$$\n",
    "\n",
    "Note that using the Manhattan distance is a relaxation of the problem, as it assumes that every cell between the bot and the button is open.\n",
    "\n",
    "Also note that the coefficients $\\alpha$ and $\\beta$ allow us to quantify how risk-averse we want to be. Early on, the algorithm should be encouraged to explore more; later on, the algorithm will prioritize cells closer to the button. After trial and error, we choose $\\alpha = 100$ and $\\beta = 0.1$."
   ]
  },
  {
   "cell_type": "markdown",
   "id": "cd646d12",
   "metadata": {},
   "source": [
    "## Results & Discussion\n",
    "\n",
    "We separated our results into 2 bins: those for which the button was closer to the bot, and those for which the button was closer to the fire. We ignored all cases where no path was possible, as these cases would not tell us anything about the quality of a bot: we determined whether a path was possible by spreading the fire until reaching the button, then searching for a path given the new fire cells. This algorithm is in our does_path_exist() function. We also only used every odd $q$ in the interval $[0.1,0.9]$ for the sake of computation.\n",
    "\n",
    "As expected, all four bots performed similarly in the first bin and showed some variation in the second bin. Each bot showed a consistently high success rate for the former bin regardless of $q$; for the second bin, each bot's success rate decreased as $q$ increased. Bot 4 overall showed similar success rates to bots 2 and 3 and higher than bot 1. From these results, we can say with confidence that bot 4 is similar in quality to bots 2 and 3, although we believe that it has potential to be better through optimal choices for weights in the cost function.\n",
    "\n",
    "What was also interesting to consider were the cases in which all bots failed except bot 4; we were hoping to answer the question of what bot 4 was potentially doing better than the other 3 bots. The success rate of bot 4 given that all other bots failed was nonzero but showed no trend as $q$ increased. Additionally, given the number of replications being 75 for each value of $q$, it's entirely possible that each bot, given it was the only success, had a nonzero success rate; we can likely ascribe bot 4's success at times to luck. Therefore, we cannot conclude anything about bot 4's quality from this data.\n",
    "\n",
    "However, we hypothesize that Bot 4 would fare best when the fire begins in between the button and the bot: while the other 3 bots will always find the shortest possible path between themselves and the button, bot 4 will allow for a longer path in the hopes of reaching the button. We perform an experiment where we predetermine the locations of the bot and button to start at opposite points in the grid, with the fire source in the middle."
   ]
  },
  {
   "cell_type": "code",
   "execution_count": 37,
   "id": "0ffc8b93",
   "metadata": {},
   "outputs": [
    {
     "name": "stdout",
     "output_type": "stream",
     "text": [
      "Success rates, q = 0.1: \n",
      "Bot1    0.586667\n",
      "Bot2    0.960000\n",
      "Bot3    0.960000\n",
      "Bot4    0.826667\n",
      "Name: 0.1, dtype: float64\n",
      "\n",
      "Success rates, q = 0.3: \n",
      "Bot1    0.666667\n",
      "Bot2    0.866667\n",
      "Bot3    0.893333\n",
      "Bot4    0.786667\n",
      "Name: 0.3, dtype: float64\n",
      "\n",
      "Success rates, q = 0.5: \n",
      "Bot1    0.573333\n",
      "Bot2    0.666667\n",
      "Bot3    0.746667\n",
      "Bot4    0.693333\n",
      "Name: 0.5, dtype: float64\n",
      "\n",
      "Success rates, q = 0.7: \n",
      "Bot1    0.573333\n",
      "Bot2    0.666667\n",
      "Bot3    0.720000\n",
      "Bot4    0.640000\n",
      "Name: 0.7, dtype: float64\n",
      "\n",
      "Success rates, q = 0.9: \n",
      "Bot1    0.440000\n",
      "Bot2    0.600000\n",
      "Bot3    0.653333\n",
      "Bot4    0.613333\n",
      "Name: 0.9, dtype: float64\n",
      "\n"
     ]
    }
   ],
   "source": [
    "q_list = [0.1, 0.3, 0.5, 0.7, 0.9]\n",
    "success_df = pd.DataFrame(0, index=q_list, columns=['Bot1', 'Bot2', 'Bot3', 'Bot4'])\n",
    "numRounds = 75\n",
    "grids = []\n",
    "#we would envelppe this in a for g in grids_for_testing and save the data both for the aggregate bot statistics and for per board basis if we think there might be anything cool, might take too long though\n",
    "for q in q_list:\n",
    "    success_rates = [0.0,0.0,0.0,0.0]\n",
    "    counts = [0,0,0,0]\n",
    "    for i in range(numRounds):\n",
    "        \n",
    "        grid_to_test = createBoard(d)\n",
    "        \n",
    "        j = 15\n",
    "        botLoc = (1, j)\n",
    "        while grid_to_test[botLoc[0]][botLoc[1]] == 0:\n",
    "            botLoc = (1, j+1)\n",
    "            j = j+1\n",
    "        \n",
    "        j = 15\n",
    "        butLoc = (40, j)\n",
    "        while grid_to_test[butLoc[0]][butLoc[1]] == 0:\n",
    "            butLoc = (1, j+1)\n",
    "            j = j+1\n",
    "\n",
    "        j = 15\n",
    "        fireLoc = (20, j)\n",
    "        while grid_to_test[fireLoc[0]][fireLoc[1]] == 0:\n",
    "            fireLoc = (1, j+1)\n",
    "            j = j+1\n",
    "            \n",
    "        path_exists = does_path_exist(grid_to_test, fireLoc, butLoc, q, botLoc)\n",
    "        while not path_exists:\n",
    "            grid_to_test = createBoard(d)\n",
    "            j = 15\n",
    "            botLoc = (1, j)\n",
    "            while grid_to_test[botLoc[0]][botLoc[1]] == 0:\n",
    "                botLoc = (1, j+1)\n",
    "                j = j+1\n",
    "\n",
    "            j = 15\n",
    "            butLoc = (40, j)\n",
    "            while grid_to_test[butLoc[0]][butLoc[1]] == 0:\n",
    "                butLoc = (1, j+1)\n",
    "                j = j+1\n",
    "\n",
    "            j = 15\n",
    "            fireLoc = (20, j)\n",
    "            while grid_to_test[fireLoc[0]][fireLoc[1]] == 0:\n",
    "                fireLoc = (1, j+1)\n",
    "                j = j+1\n",
    "            \n",
    "            path_exists = does_path_exist(grid_to_test, fireLoc, butLoc, q, botLoc)\n",
    "\n",
    "        bot1Grid = copy.deepcopy(grid_to_test)\n",
    "        bot2Grid = copy.deepcopy(grid_to_test)\n",
    "        bot3Grid = copy.deepcopy(grid_to_test)\n",
    "        bot4Grid = copy.deepcopy(grid_to_test)\n",
    "        \n",
    "        bot1_success = gameLoop1(bot1Grid, botLoc, fireLoc, butLoc, False, q)\n",
    "        bot2_success = gameLoop2(bot2Grid, botLoc, fireLoc, butLoc, False, q)\n",
    "        bot3_success = gameLoop3(bot3Grid, botLoc, fireLoc, butLoc, False, q)\n",
    "        bot4_success = gameLoop4(bot4Grid, botLoc, fireLoc, butLoc, False, q)\n",
    "        \n",
    "        if bot1_success:\n",
    "            counts[0] += 1\n",
    "\n",
    "        if bot2_success:\n",
    "            counts[1] += 1\n",
    "\n",
    "        if bot3_success:\n",
    "            counts[2] += 1\n",
    "\n",
    "        if bot4_success:\n",
    "            counts[3] += 1\n",
    "        \n",
    "        grids.append(bot4Grid)\n",
    "                \n",
    "    for bot in range(len(counts)):\n",
    "        success_rates[bot] = counts[bot]/(numRounds)\n",
    "    success_df.loc[q] = success_rates\n",
    "    \n",
    "    print(f\"Success rates, q = {q}: \\n{success_df.loc[q]}\")\n",
    "    print()"
   ]
  },
  {
   "cell_type": "code",
   "execution_count": 38,
   "id": "4ccef591",
   "metadata": {},
   "outputs": [
    {
     "data": {
      "image/png": "[encoded data removed]",
      "text/plain": [
       "<Figure size 640x480 with 1 Axes>"
      ]
     },
     "metadata": {},
     "output_type": "display_data"
    }
   ],
   "source": [
    "# Plotting for each bot, Button closer to Fire\n",
    "plt.figure()\n",
    "\n",
    "# Plot each bot's success rate on the same plot, with different markers and colors\n",
    "for bot in ['Bot1', 'Bot2', 'Bot3', 'Bot4']:\n",
    "    plt.plot(q_list, success_df[bot], marker='o', label=bot)\n",
    "\n",
    "# Add labels and title\n",
    "plt.title('Success Rate for All Bots, Fire Between Bot and Button')\n",
    "plt.xlabel('q (flammability)')\n",
    "plt.ylabel('Success Rate')\n",
    "\n",
    "# Set the y-axis limits\n",
    "plt.ylim(0, 1)\n",
    "\n",
    "# Show the grid for clarity\n",
    "plt.grid(True)\n",
    "\n",
    "# Add a legend to differentiate the bots\n",
    "plt.legend()\n",
    "\n",
    "# Show the plot\n",
    "plt.show()"
   ]
  },
  {
   "cell_type": "markdown",
   "id": "515f30e0",
   "metadata": {},
   "source": [
    "## Results & Discussion (Contd.)\n",
    "We observe that bot 4 performs similar to if not slightly worse than bots 2 and 3 but better than bot 1, in the cases where the fire starts between the bot and the button. We believe that this is due to suboptimal weights in the cost function. Given this, we have no evidence to support our hypothesis that bot 4 performs better in these cases."
   ]
  },
  {
   "cell_type": "markdown",
   "id": "bb4a6436",
   "metadata": {},
   "source": [
    "## Why Does Each Bot Fail?\n",
    "\n",
    "Every bot has at least one or two glaring weaknesses that sum up why they fail for certain board configurations: \n",
    "\n",
    "Bot 1, for instance, planning a shortest path from the beginning and ignoring the fire altogether, fails if the fire will at any point interfere with the bot's path. This is okay when the fire is far away enough and/or the flammability is low enough that the fire will not reach the bot's path before it arrives at the button, but keeping track of the fire at any capacity would help the bot make more informed decisions. "
   ]
  },
  {
   "cell_type": "markdown",
   "id": "0c58e521",
   "metadata": {},
   "source": [
    "Bot 2 will calculate the shortest path at every time step, treating the fire as an obstacle, basically a growing wall. This gives some shielding against fire growth, but can get outpaced by fire cells' neighbors catching fire and getting in the way of bot 2's path. It can very easily pick a path that may get intercepted and cut off by fire, highlighting a lack of foresight on how the fire may spread. The bot would benefit from a more cautious or predictive calculation to weigh into what cells to potentially avoid in addition to the existing fire cells.\n",
    "\n"
   ]
  },
  {
   "cell_type": "markdown",
   "id": "b2a4e1a3",
   "metadata": {},
   "source": [
    "Bot 3 will calculate the shortest path at every time step but while treating the fire as a threat, going as far as to avoid fire neighbors as well as fire. This will make it difficult for bot 3 to catch fire, but because neighbors are automatically avoided regardless of their probability of being set on fire, bot 3 will often be avoiding cells that aren't actually all that risky. This has a stronger negative impact when bot 3 is forced to take less than optimal paths in order to avoid the fire. Increasing the distance it needs to travel, especially when the ship layout is configured in such a way that the path from one cell to another is not usually a Manhattan-distance type path, can actually lead to the fire spreading too much before the bot can reach the button. At lower flammabilities, the overcautiousness can make the bot take too long to reach the button, while at higher flammabilities, the bot simply does not have anything to help it get to the button (would lead to more running from the fire than getting to the button). These could be amended by being more flexible in what to avoid - the neighbors of fire cells can potentially benefit from a threshold system determining whether one should be avoided, where the threshold is a function of information such as how many neighbors are on fire and the flammability.\n",
    "\n"
   ]
  },
  {
   "cell_type": "markdown",
   "id": "7b647b4f",
   "metadata": {},
   "source": [
    "Bot 4 runs simulations of fire spread and then attempts to calculate a probabilistically optimal path to the goal by keeping track of what time step a cell is expected to catch on fire given a given fire source cell. This corresponds to a number of weaknesses that really hurt the bot's performance. Firstly, the lack of real time awareness of the fire/the bot's overreliance on simulation data reflects an inflexibility when the fire spreads in such a way that contradict the simulation data and weights. The weights are also likely not optimally chosen, as our best attempt with trial and error yielded suboptimal results but still relatively on par with 2 and 3, even surpassing them for q=0.5. This along with the inability to react to real-time fire spread hurt the bot's ability when the fire gets into the way of the bot's path. The weights, also being static, could benefit from being adjusted as a function of the simulation data through an optimization algorithm such as gradient descent. Overall the weaknesses for bot four would be best amended by having more dynamic weights as a function of information available to the bot and awareness of current fire spread."
   ]
  },
  {
   "cell_type": "markdown",
   "id": "81f3fd6e",
   "metadata": {},
   "source": [
    "## Ideal Bot\n",
    "An ideal bot would make decisions that best weigh the risk of navigating through the fire with the reward of getting closer to the goal. The best approach to this, in our opinion, is a predictive and adaptive pathfinding approach similar to the MCMC simulations of our current Bot 4. The bot would initially simulate fire spread iteratively to generate a map of probabilities for whether a cell would catch fire over any given number of timesteps, like our bot 4 does. The ideal bot would then generate and dynamically adjust the weights $\\alpha$ and $\\beta$ in the cost function using supervised learning algorithms such as gradient descent. Without memory and time constraints, a way to implement this would be to run simulations at every time step, adjusting weights based on simulated fire spreads versus real fire spread. This would allow the bot to incorporate real time path correction using the actual fire spread to dynamically adjust its route if necessary."
   ]
  }
 ],
 "metadata": {
  "kernelspec": {
   "display_name": "Python 3 (ipykernel)",
   "language": "python",
   "name": "python3"
  },
  "language_info": {
   "codemirror_mode": {
    "name": "ipython",
    "version": 3
   },
   "file_extension": ".py",
   "mimetype": "text/x-python",
   "name": "python",
   "nbconvert_exporter": "python",
   "pygments_lexer": "ipython3",
   "version": "3.11.5"
  }
 },
 "nbformat": 4,
 "nbformat_minor": 5
}
