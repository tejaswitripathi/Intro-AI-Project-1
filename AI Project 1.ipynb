{
 "cells": [
  {
   "cell_type": "markdown",
   "id": "eec7c5c3",
   "metadata": {},
   "source": [
    "## Building the Ship"
   ]
  },
  {
   "cell_type": "code",
   "execution_count": 113,
   "id": "378f7571",
   "metadata": {},
   "outputs": [
    {
     "name": "stdout",
     "output_type": "stream",
     "text": [
      "Grid size: 40\n",
      "2 2 2 2 2 2 2 2 2 2 2 2 2 2 2 2 2 2 2 2 2 2 2 2 2 2 2 2 2 2 2 2 2 2 2 2 2 2 2 2 2 2 \n",
      "2 0 0 0 0 0 0 0 0 0 0 0 0 0 0 0 0 0 0 0 0 0 0 0 0 0 0 0 0 0 0 0 0 0 0 0 0 0 0 0 0 2 \n",
      "2 0 0 0 0 0 0 0 0 0 0 0 0 0 0 0 0 0 0 0 0 0 0 0 0 0 0 0 0 0 0 0 0 0 0 0 0 0 0 0 0 2 \n",
      "2 0 0 0 0 0 0 0 0 0 0 0 0 0 0 0 0 0 0 0 0 0 0 0 0 0 0 0 0 0 0 0 0 0 0 0 0 0 0 0 0 2 \n",
      "2 0 0 0 0 0 0 0 0 0 0 0 0 0 0 0 0 0 0 0 0 0 0 0 0 0 0 0 0 0 0 0 0 0 0 0 0 0 0 0 0 2 \n",
      "2 0 0 0 0 0 0 0 0 0 0 0 0 0 0 0 0 0 0 0 0 0 0 0 0 0 0 0 0 0 0 0 0 0 0 0 0 0 0 0 0 2 \n",
      "2 0 0 0 0 0 0 0 0 0 0 0 0 0 0 0 0 0 0 0 0 0 0 0 0 0 0 0 0 0 0 0 0 0 0 0 0 0 0 0 0 2 \n",
      "2 0 0 0 0 0 0 0 0 0 0 0 0 0 0 0 0 0 0 0 0 0 0 0 0 0 0 0 0 0 0 0 0 0 0 0 0 0 0 0 0 2 \n",
      "2 0 0 0 0 0 0 0 0 0 0 0 0 0 0 0 0 0 0 0 0 0 0 0 0 0 0 0 0 0 0 0 0 0 0 0 0 0 0 0 0 2 \n",
      "2 0 0 0 0 0 0 0 0 0 0 0 0 0 0 0 0 0 0 0 0 0 0 0 0 0 0 0 0 0 0 0 0 0 0 0 0 0 0 0 0 2 \n",
      "2 0 0 0 0 0 0 0 0 0 0 0 0 0 0 0 0 0 0 0 0 0 0 0 0 0 0 0 0 0 0 0 0 0 0 0 0 0 0 0 0 2 \n",
      "2 0 0 0 0 0 0 0 0 0 0 0 0 0 0 0 0 0 0 0 0 0 0 0 0 0 0 0 0 0 0 0 0 0 0 0 0 0 0 0 0 2 \n",
      "2 0 0 0 0 0 0 0 0 0 0 0 0 0 0 0 0 0 0 0 0 0 0 0 0 0 0 0 0 0 0 0 0 0 0 0 0 0 0 0 0 2 \n",
      "2 0 0 0 0 0 0 0 0 0 0 0 0 0 0 0 0 0 0 0 0 0 0 0 0 0 0 0 0 0 0 0 0 0 0 0 0 0 0 0 0 2 \n",
      "2 0 0 0 0 0 0 0 0 0 0 0 0 0 0 0 0 0 0 0 0 0 0 0 0 0 0 0 0 0 0 0 0 0 0 0 0 0 0 0 0 2 \n",
      "2 0 0 0 0 0 0 0 0 0 0 0 0 0 0 0 0 0 0 0 0 0 0 0 0 0 0 0 0 0 0 0 0 0 0 0 0 0 0 0 0 2 \n",
      "2 0 0 0 0 0 0 0 0 0 0 0 0 0 0 0 0 0 0 0 0 0 0 0 0 0 0 0 0 0 0 0 0 0 0 0 0 0 0 0 0 2 \n",
      "2 0 0 0 0 0 0 0 0 0 0 0 0 0 0 0 0 0 0 0 0 0 0 0 0 0 0 0 0 0 0 0 0 0 0 0 0 0 0 0 0 2 \n",
      "2 0 0 0 0 0 0 0 0 0 0 0 0 0 0 0 0 0 0 0 0 0 0 0 0 0 0 0 0 0 0 0 0 0 0 0 0 0 0 0 0 2 \n",
      "2 0 0 0 0 0 0 0 0 0 0 0 0 0 0 0 0 0 0 0 0 0 0 0 0 0 0 0 0 0 0 0 0 0 0 0 0 0 0 0 0 2 \n",
      "2 0 0 0 0 0 0 0 0 0 0 0 0 0 0 0 0 0 0 0 0 0 0 0 0 0 0 0 0 0 0 0 0 0 0 0 0 0 0 0 0 2 \n",
      "2 0 0 0 0 0 0 0 0 0 0 0 0 0 0 0 0 0 0 0 0 0 0 0 0 0 0 0 0 0 0 0 0 0 0 0 0 0 0 0 0 2 \n",
      "2 0 0 0 0 0 0 0 0 0 0 0 0 0 0 0 0 0 0 0 0 0 0 0 0 0 0 0 0 0 0 0 0 0 0 0 0 0 0 0 0 2 \n",
      "2 0 0 0 0 0 0 0 0 0 0 0 0 0 0 0 0 0 0 0 0 0 0 0 0 0 0 0 0 0 0 0 0 0 0 0 0 0 0 0 0 2 \n",
      "2 0 0 0 0 0 0 0 0 0 0 0 0 0 0 0 0 0 0 0 0 0 0 0 0 0 0 0 0 0 0 0 0 0 0 0 0 0 0 0 0 2 \n",
      "2 0 0 0 0 0 0 0 0 0 0 0 0 0 0 0 0 0 0 0 0 0 0 0 0 0 0 0 0 0 0 0 0 0 0 0 0 0 0 0 0 2 \n",
      "2 0 0 0 0 0 0 0 0 0 0 0 0 0 0 0 0 0 0 0 0 0 0 0 0 0 0 0 0 0 0 0 0 0 0 0 0 0 0 0 0 2 \n",
      "2 0 0 0 0 0 0 0 0 0 0 0 0 0 0 0 0 0 0 0 0 0 0 0 0 0 0 0 0 0 0 0 0 0 0 0 0 0 0 0 0 2 \n",
      "2 0 0 0 0 0 0 0 0 0 0 0 0 0 0 0 0 0 0 0 0 0 0 0 0 0 0 0 0 0 0 0 0 0 0 0 0 0 0 0 0 2 \n",
      "2 0 0 0 0 0 0 0 0 0 0 0 0 0 0 0 0 0 0 0 0 0 0 0 0 0 0 0 0 0 0 0 0 0 0 0 0 0 0 0 0 2 \n",
      "2 0 0 0 0 0 0 0 0 0 0 0 0 0 0 0 0 0 0 0 0 0 0 0 0 0 0 0 0 0 0 0 0 0 0 0 0 0 0 0 0 2 \n",
      "2 0 0 0 0 0 0 0 0 0 0 0 0 0 0 0 0 0 0 0 0 0 0 0 0 0 0 0 0 0 0 0 0 0 0 0 0 0 0 0 0 2 \n",
      "2 0 0 0 0 0 0 0 0 0 0 0 0 0 0 0 0 0 0 0 0 0 0 0 0 0 0 0 0 0 0 0 0 0 0 0 0 0 0 0 0 2 \n",
      "2 0 0 0 0 0 0 0 0 0 0 0 0 0 0 0 0 0 0 0 0 0 0 0 0 0 0 0 0 0 0 0 0 0 0 0 0 0 0 0 0 2 \n",
      "2 0 0 0 0 0 0 0 0 0 0 0 0 0 0 0 0 0 0 0 0 0 0 0 0 0 0 0 0 0 0 0 0 0 0 0 0 0 0 0 0 2 \n",
      "2 0 0 0 0 0 0 0 0 0 0 0 0 0 0 0 0 0 0 0 0 0 0 0 0 0 0 0 0 0 0 0 0 0 0 0 0 0 0 0 0 2 \n",
      "2 0 0 0 0 0 0 0 0 0 0 0 0 0 0 0 0 0 0 0 0 0 0 0 0 0 0 0 0 0 0 0 0 0 0 0 0 0 0 0 0 2 \n",
      "2 0 0 0 0 0 0 0 0 0 0 0 0 0 0 0 0 0 0 0 0 0 0 0 0 0 0 0 0 0 0 0 0 0 0 0 0 0 0 0 0 2 \n",
      "2 0 0 0 0 0 0 0 0 0 0 0 0 0 0 0 0 0 0 0 0 0 0 0 0 0 0 0 0 0 0 0 0 0 0 0 0 0 0 0 0 2 \n",
      "2 0 0 0 0 0 0 0 0 0 0 0 0 0 0 0 0 0 0 0 0 0 0 0 0 0 0 0 0 0 0 0 0 0 0 0 0 0 0 0 0 2 \n",
      "2 0 0 0 0 0 0 0 0 0 0 0 0 0 0 0 0 0 0 0 0 0 0 0 0 0 0 0 0 0 0 0 0 0 0 0 0 0 0 0 0 2 \n",
      "2 2 2 2 2 2 2 2 2 2 2 2 2 2 2 2 2 2 2 2 2 2 2 2 2 2 2 2 2 2 2 2 2 2 2 2 2 2 2 2 2 2 \n"
     ]
    }
   ],
   "source": [
    "import random\n",
    "\n",
    "d = int(input(\"Grid size: \"))\n",
    "\n",
    "grid = [[0 for _ in range(d+2)] for _ in range(d+2)]\n",
    "    \n",
    "# Set the first and last rows to 1s\n",
    "for j in range(d+2):\n",
    "    grid[0][j] = 2  # First row\n",
    "    grid[d+1][j] = 2  # Last row\n",
    "\n",
    "# Set the first and last columns to 1s\n",
    "for i in range(d+2):\n",
    "    grid[i][0] = 2 # First column\n",
    "    grid[i][d+1] = 2 # Last column\n",
    "    \n",
    "for r in grid:\n",
    "    for c in r:\n",
    "        print(c, end=\" \")\n",
    "    print()"
   ]
  },
  {
   "cell_type": "code",
   "execution_count": 114,
   "id": "141c5181",
   "metadata": {},
   "outputs": [],
   "source": [
    "def checkNeighbors(grid, r, c, a):\n",
    "    return [grid[r-1][c],grid[r+1][c],grid[r][c-1],grid[r][c+1]].count(a)"
   ]
  },
  {
   "cell_type": "code",
   "execution_count": 115,
   "id": "9e817508",
   "metadata": {
    "scrolled": true
   },
   "outputs": [
    {
     "name": "stdout",
     "output_type": "stream",
     "text": [
      "Percent of cells opened: 60.9375\n"
     ]
    }
   ],
   "source": [
    "\n",
    "x = random.randint(1, d)\n",
    "y = random.randint(1, d)\n",
    "\n",
    "\n",
    "fringe = []\n",
    "fringe.append((x,y))\n",
    "\n",
    "deadEnds = []\n",
    "\n",
    "while len(fringe) > 0:\n",
    "    curr = random.choice(fringe)\n",
    "    fringe.remove(curr)\n",
    "    r, c = curr[0], curr[1]\n",
    "    if checkNeighbors(grid, r, c, 1) > 1:\n",
    "        continue\n",
    "    grid[r][c] = 1\n",
    "    up = (r-1, c) \n",
    "    down = (r+1, c) \n",
    "    left = (r, c-1) \n",
    "    right = (r, c+1)\n",
    "    deadEnd = True\n",
    "    for elt in [up, down, left, right]:\n",
    "        if grid[elt[0]][elt[1]] == 0:\n",
    "            numOpenNeighbors = checkNeighbors(grid, elt[0], elt[1], 1)\n",
    "            if numOpenNeighbors == 1:\n",
    "                deadEnd = False\n",
    "                fringe.append(elt)\n",
    "    if deadEnd:\n",
    "        deadEnds.append(curr)\n",
    "        \n",
    "\n",
    "count = 0   \n",
    "for row in grid:\n",
    "    count += row.count(1)\n",
    "\n",
    "print(f\"Percent of cells opened: {100*count/(d*d)}\")"
   ]
  },
  {
   "cell_type": "code",
   "execution_count": 116,
   "id": "e0a4f116",
   "metadata": {},
   "outputs": [
    {
     "data": {
      "image/png": "[encoded data removed]",
      "text/plain": [
       "<Figure size 640x480 with 1 Axes>"
      ]
     },
     "metadata": {},
     "output_type": "display_data"
    }
   ],
   "source": [
    "import matplotlib.pyplot as plt\n",
    "import numpy as np\n",
    "\n",
    "color_map = {\n",
    "    0: 'white',\n",
    "    1: 'black',\n",
    "    2: 'red'\n",
    "}\n",
    "\n",
    "# Create a figure and axis\n",
    "fig, ax = plt.subplots()\n",
    "\n",
    "# Create a grid where each cell is colored according to the value in the array\n",
    "for i in range(len(grid)):\n",
    "    for j in range(len(grid[i])):\n",
    "        ax.add_patch(plt.Rectangle((j, i), 1, 1, facecolor=color_map[grid[i][j]]))\n",
    "\n",
    "# Set grid limits and turn off axis\n",
    "ax.set_xlim(0, len(grid[0]))\n",
    "ax.set_ylim(0, len(grid))\n",
    "ax.set_xticks([])\n",
    "ax.set_yticks([])\n",
    "ax.set_aspect('equal')\n",
    "\n",
    "plt.gca().invert_yaxis()  # Invert y-axis to make the grid origin (0,0) at the top-left corner\n",
    "plt.show()"
   ]
  },
  {
   "cell_type": "markdown",
   "id": "7ed6fdb8",
   "metadata": {},
   "source": [
    "black = open cells, red = wall"
   ]
  },
  {
   "cell_type": "code",
   "execution_count": 117,
   "id": "cea4c227",
   "metadata": {},
   "outputs": [
    {
     "name": "stdout",
     "output_type": "stream",
     "text": [
      "Percent of cells opened: 65.1875\n"
     ]
    }
   ],
   "source": [
    "for elt in deadEnds:\n",
    "    if grid[elt[0]][elt[1]] == 2:\n",
    "        deadEnds.remove(elt)\n",
    "        continue\n",
    "    numOpenNeighbors = checkNeighbors(grid, elt[0], elt[1], 1)\n",
    "    if numOpenNeighbors > 1:\n",
    "        deadEnds.remove(elt)\n",
    "\n",
    "newList = random.sample(deadEnds, len(deadEnds) // 2)\n",
    "for elt in newList:\n",
    "    r = elt[0]\n",
    "    c = elt[1]\n",
    "    up = (r-1, c) \n",
    "    down = (r+1, c) \n",
    "    left = (r, c-1) \n",
    "    right = (r, c+1)\n",
    "    neighbors = [up,down,left,right]\n",
    "    for pt in neighbors:\n",
    "        if grid[pt[0]][pt[1]] == 1 or grid[pt[0]][pt[1]] == 2:\n",
    "            neighbors.remove(pt)\n",
    "#     print(neighbors)\n",
    "    curr = random.choice(neighbors)\n",
    "    while grid[curr[0]][curr[1]] == 2:\n",
    "        curr = random.choice(neighbors)\n",
    "    grid[curr[0]][curr[1]] = 1\n",
    "\n",
    "count = 0   \n",
    "for row in grid:\n",
    "    count += row.count(1)\n",
    "\n",
    "print(f\"Percent of cells opened: {100*count/(d*d)}\")"
   ]
  },
  {
   "cell_type": "code",
   "execution_count": 118,
   "id": "2a865ee3",
   "metadata": {},
   "outputs": [
    {
     "data": {
      "image/png": "[encoded data removed]",
      "text/plain": [
       "<Figure size 640x480 with 1 Axes>"
      ]
     },
     "metadata": {},
     "output_type": "display_data"
    }
   ],
   "source": [
    "color_map = {\n",
    "    0: 'white',\n",
    "    1: 'black',\n",
    "    2: 'red'\n",
    "}\n",
    "\n",
    "# Create a figure and axis\n",
    "fig, ax = plt.subplots()\n",
    "\n",
    "# Create a grid where each cell is colored according to the value in the array\n",
    "for i in range(len(grid)):\n",
    "    for j in range(len(grid[i])):\n",
    "        ax.add_patch(plt.Rectangle((j, i), 1, 1, facecolor=color_map[grid[i][j]]))\n",
    "\n",
    "# Set grid limits and turn off axis\n",
    "ax.set_xlim(0, len(grid[0]))\n",
    "ax.set_ylim(0, len(grid))\n",
    "ax.set_xticks([])\n",
    "ax.set_yticks([])\n",
    "ax.set_aspect('equal')\n",
    "\n",
    "plt.gca().invert_yaxis()  # Invert y-axis to make the grid origin (0,0) at the top-left corner\n",
    "plt.show()"
   ]
  },
  {
   "cell_type": "markdown",
   "id": "67016aef",
   "metadata": {},
   "source": [
    "## Coding the Fire\n"
   ]
  },
  {
   "cell_type": "code",
   "execution_count": 119,
   "id": "c0245dd3",
   "metadata": {},
   "outputs": [],
   "source": [
    "def setFire(grid, pt, q):\n",
    "    if grid[pt[0]][pt[1]] == 3:\n",
    "        return\n",
    "    k = checkNeighbors(grid, pt[0], pt[1], 3)\n",
    "    prob = 1 - (1-q)**k\n",
    "    x = random.random()\n",
    "#     print(x<=prob)\n",
    "    if x <= prob:\n",
    "        grid[pt[0]][pt[1]] = 3\n",
    "    return\n",
    "#     r = pt[0]\n",
    "#     c = pt[1]\n",
    "#     up = (r-1, c) \n",
    "#     down = (r+1, c) \n",
    "#     left = (r, c-1) \n",
    "#     right = (r, c+1)\n",
    "#     neighbors = [up,down,left,right]\n",
    "#     for elt in neighbors:\n",
    "        "
   ]
  },
  {
   "cell_type": "markdown",
   "id": "33ad0482",
   "metadata": {},
   "source": [
    "## Location Initializations"
   ]
  },
  {
   "cell_type": "code",
   "execution_count": 120,
   "id": "696d2684",
   "metadata": {},
   "outputs": [
    {
     "name": "stdout",
     "output_type": "stream",
     "text": [
      "False\n",
      "(36, 35)\n",
      "(31, 6)\n",
      "(15, 27)\n"
     ]
    }
   ],
   "source": [
    "botLoc = (random.randint(1, d), random.randint(1, d))\n",
    "while grid[botLoc[0]][botLoc[1]] == 0:\n",
    "    botLoc = (random.randint(1, d), random.randint(1, d))\n",
    "\n",
    "butLoc = (random.randint(1, d), random.randint(1, d))\n",
    "while grid[butLoc[0]][butLoc[1]] == 0:\n",
    "    butLoc = (random.randint(1, d), random.randint(1, d))\n",
    "\n",
    "fireLoc = (random.randint(1, d), random.randint(1, d))\n",
    "while grid[fireLoc[0]][fireLoc[1]] == 0:\n",
    "    fireLoc = (random.randint(1, d), random.randint(1, d))\n",
    "\n",
    "notDistinct = (botLoc == butLoc) or (botLoc == fireLoc) or (butLoc == fireLoc)\n",
    "print(distinct)\n",
    "\n",
    "while notDistinct:\n",
    "    while grid[botLoc[0]][botLoc[1]] == 0:\n",
    "        botLoc = (random.randint(1, d), random.randint(1, d))\n",
    "    while grid[butLoc[0]][butLoc[1]] == 0:\n",
    "        butLoc = (random.randint(1, d), random.randint(1, d))\n",
    "    while grid[fireLoc[0]][fireLoc[1]] == 0:\n",
    "        fireLoc = (random.randint(1, d), random.randint(1, d))\n",
    "\n",
    "bot1Grid = grid.copy()\n",
    "bot1Grid[fireLoc[0]][fireLoc[1]] = 3\n",
    "\n",
    "print(botLoc)\n",
    "print(butLoc)\n",
    "print(fireLoc)"
   ]
  },
  {
   "cell_type": "markdown",
   "id": "7a20a258",
   "metadata": {},
   "source": [
    "## Shortest Path (Bot 1)"
   ]
  },
  {
   "cell_type": "code",
   "execution_count": 121,
   "id": "be76146b",
   "metadata": {},
   "outputs": [
    {
     "name": "stdout",
     "output_type": "stream",
     "text": [
      "Success\n",
      "[(36, 35), (36, 34), (36, 33), (36, 32), (36, 31), (35, 31), (34, 31), (33, 31), (32, 31), (31, 31), (30, 31), (29, 31), (29, 30), (28, 30), (28, 29), (28, 28), (28, 27), (27, 27), (26, 27), (26, 26), (25, 26), (24, 26), (24, 25), (23, 25), (22, 25), (21, 25), (21, 24), (21, 23), (21, 22), (21, 21), (21, 20), (21, 19), (22, 19), (22, 18), (23, 18), (23, 17), (23, 16), (24, 16), (24, 15), (24, 14), (24, 13), (25, 13), (26, 13), (26, 12), (26, 11), (26, 10), (26, 9), (26, 8), (26, 7), (27, 7), (28, 7), (28, 6), (28, 5), (29, 5), (30, 5), (31, 5), (31, 6)]\n"
     ]
    }
   ],
   "source": [
    "fringe1 = []\n",
    "fringe1.append(botLoc)\n",
    "\n",
    "closed_set = {}\n",
    "prev1 = {}\n",
    "prev1[botLoc] = None\n",
    "\n",
    "while len(fringe1) > 0:\n",
    "    curr1 = fringe1.pop(0)\n",
    "    if curr1 == butLoc:\n",
    "        #print(curr1)\n",
    "        print(\"Success\")\n",
    "        break\n",
    "    \n",
    "    if curr1 not in closed_set:\n",
    "        closed_set.update({curr1: 1})\n",
    "        r1, c1 = curr1[0], curr1[1]\n",
    "        neighbors1 = [(r1-1, c1),(r1+1, c1),(r1, c1-1),(r1, c1+1)]\n",
    "        for elt in neighbors1:\n",
    "            if bot1Grid[elt[0]][elt[1]] == 1 and elt not in closed_set:\n",
    "                fringe1.append(elt)\n",
    "                prev1[elt] = curr1\n",
    "#print(prev1)\n",
    "\n",
    "path = []\n",
    "curr = butLoc\n",
    "while curr is not None:\n",
    "    path.append(curr)\n",
    "    curr = prev1[curr]\n",
    "\n",
    "# Return the path from start to finish\n",
    "print(path[::-1])  # Reverse the path to go from start to finish"
   ]
  },
  {
   "cell_type": "markdown",
   "id": "21bdc307",
   "metadata": {},
   "source": [
    "## Game Loop (Bot 1)"
   ]
  },
  {
   "cell_type": "code",
   "execution_count": 125,
   "id": "54ce64a6",
   "metadata": {},
   "outputs": [
    {
     "name": "stdout",
     "output_type": "stream",
     "text": [
      "Bot1 failed in 23 timesteps.\n"
     ]
    }
   ],
   "source": [
    "t = 1\n",
    "fireLocs = []\n",
    "r,c = fireLoc[0], fireLoc[1]\n",
    "fireLocs.extend(((r-1, c), (r+1, c), (r,c-1), (r,c+1)))\n",
    "success = True\n",
    "for i in path:\n",
    "    for curr in fireLocs:\n",
    "        setFire(bot1Grid, curr, 0.5)\n",
    "        if bot1Grid[curr[0]][curr[1]] == 3:\n",
    "            fireLocs.remove(curr)\n",
    "            neighbors = [(curr[0]-1,curr[1]), (curr[0]+1,curr[1]), (curr[0], curr[1]-1), (curr[0], curr[1]+1)]\n",
    "            for elt in neighbors:\n",
    "                if bot1Grid[elt[0]][elt[1]] == 1 or bot1Grid[elt[0]][elt[1]] == 4:\n",
    "                    fireLocs.append(elt)\n",
    "    if bot1Grid[i[0]][i[1]] == 3:\n",
    "        print(f\"Bot1 failed in {t} timesteps.\")\n",
    "        success = False\n",
    "        break\n",
    "    t = t + 1\n",
    "    bot1Grid[i[0]][i[1]] = 4\n",
    "l = len(path)\n",
    "bot1Grid[path[l-1][0]][path[l-1][1]] = 5\n",
    "bot1Grid[fireLoc[0]][fireLoc[1]] = 6\n",
    "if success: print(\"Success!\")"
   ]
  },
  {
   "cell_type": "code",
   "execution_count": 126,
   "id": "d85bcce2",
   "metadata": {},
   "outputs": [
    {
     "data": {
      "image/png": "[encoded data removed]",
      "text/plain": [
       "<Figure size 640x480 with 1 Axes>"
      ]
     },
     "metadata": {},
     "output_type": "display_data"
    }
   ],
   "source": [
    "color_map = {\n",
    "    0: 'white',\n",
    "    1: 'black',\n",
    "    2: 'red',\n",
    "    3: 'orange',\n",
    "    4: 'blue',\n",
    "    5: 'pink',\n",
    "    6: 'yellow'\n",
    "}\n",
    "\n",
    "# Create a figure and axis\n",
    "fig, ax = plt.subplots()\n",
    "\n",
    "# Create a grid where each cell is colored according to the value in the array\n",
    "for i in range(len(grid)):\n",
    "    for j in range(len(grid[i])):\n",
    "        ax.add_patch(plt.Rectangle((j, i), 1, 1, facecolor=color_map[grid[i][j]]))\n",
    "\n",
    "# Set grid limits and turn off axis\n",
    "ax.set_xlim(0, len(grid[0]))\n",
    "ax.set_ylim(0, len(grid))\n",
    "ax.set_xticks([])\n",
    "ax.set_yticks([])\n",
    "ax.set_aspect('equal')\n",
    "\n",
    "plt.gca().invert_yaxis()  # Invert y-axis to make the grid origin (0,0) at the top-left corner\n",
    "plt.show()"
   ]
  },
  {
   "cell_type": "markdown",
   "id": "9ecad79b",
   "metadata": {},
   "source": [
    "The yellow dot represents the source of the fire. The pink dot represents the button."
   ]
  },
  {
   "cell_type": "markdown",
   "id": "0f890c6c",
   "metadata": {},
   "source": [
    "## Shortest Path (Bot 3)"
   ]
  },
  {
   "cell_type": "code",
   "execution_count": null,
   "id": "1bd9af4f",
   "metadata": {},
   "outputs": [],
   "source": []
  }
 ],
 "metadata": {
  "kernelspec": {
   "display_name": "Python 3 (ipykernel)",
   "language": "python",
   "name": "python3"
  },
  "language_info": {
   "codemirror_mode": {
    "name": "ipython",
    "version": 3
   },
   "file_extension": ".py",
   "mimetype": "text/x-python",
   "name": "python",
   "nbconvert_exporter": "python",
   "pygments_lexer": "ipython3",
   "version": "3.11.5"
  }
 },
 "nbformat": 4,
 "nbformat_minor": 5
}
